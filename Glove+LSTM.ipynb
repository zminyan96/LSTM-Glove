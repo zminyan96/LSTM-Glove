{
 "cells": [
  {
   "cell_type": "code",
   "execution_count": 1,
   "id": "9402a0a4",
   "metadata": {},
   "outputs": [],
   "source": [
    "import numpy as np"
   ]
  },
  {
   "cell_type": "code",
   "execution_count": 2,
   "id": "129cb7c7",
   "metadata": {},
   "outputs": [],
   "source": [
    "import torch\n",
    "import pandas as pd\n",
    "# import nltk\n",
    "import os"
   ]
  },
  {
   "cell_type": "code",
   "execution_count": 3,
   "id": "0e0d81c6",
   "metadata": {},
   "outputs": [],
   "source": [
    "from preprocessing import clean_text"
   ]
  },
  {
   "cell_type": "code",
   "execution_count": 4,
   "id": "bad29c8a",
   "metadata": {},
   "outputs": [
    {
     "name": "stderr",
     "output_type": "stream",
     "text": [
      "[nltk_data] Downloading package stopwords to\n",
      "[nltk_data]     C:\\Users\\muz94\\AppData\\Roaming\\nltk_data...\n",
      "[nltk_data]   Package stopwords is already up-to-date!\n"
     ]
    }
   ],
   "source": [
    "import nltk\n",
    "nltk.download('stopwords')\n",
    "from nltk.stem import PorterStemmer\n",
    "from nltk.corpus import stopwords\n",
    "stop_word = set(stopwords.words('english'))\n",
    "from nltk.tokenize import word_tokenize"
   ]
  },
  {
   "cell_type": "code",
   "execution_count": 5,
   "id": "359c5781",
   "metadata": {},
   "outputs": [],
   "source": [
    "test_data = pd.read_csv(\"test.csv\", dtype={\"test_id\": int, \"question1\": str, \"question2\": str})\n",
    "train_data = pd.read_csv(\"train/train.csv\", dtype={'id': int, 'qid1':int, 'qid2': int, 'question1':str, 'question2':str, 'is_duplicate': int})\n",
    "test_data.set_index('test_id', inplace = True)\n",
    "train_data.set_index('id', inplace = True)"
   ]
  },
  {
   "cell_type": "code",
   "execution_count": 6,
   "id": "17438d90",
   "metadata": {},
   "outputs": [
    {
     "data": {
      "text/html": [
       "<div>\n",
       "<style scoped>\n",
       "    .dataframe tbody tr th:only-of-type {\n",
       "        vertical-align: middle;\n",
       "    }\n",
       "\n",
       "    .dataframe tbody tr th {\n",
       "        vertical-align: top;\n",
       "    }\n",
       "\n",
       "    .dataframe thead th {\n",
       "        text-align: right;\n",
       "    }\n",
       "</style>\n",
       "<table border=\"1\" class=\"dataframe\">\n",
       "  <thead>\n",
       "    <tr style=\"text-align: right;\">\n",
       "      <th></th>\n",
       "      <th>qid1</th>\n",
       "      <th>qid2</th>\n",
       "      <th>question1</th>\n",
       "      <th>question2</th>\n",
       "      <th>is_duplicate</th>\n",
       "    </tr>\n",
       "    <tr>\n",
       "      <th>id</th>\n",
       "      <th></th>\n",
       "      <th></th>\n",
       "      <th></th>\n",
       "      <th></th>\n",
       "      <th></th>\n",
       "    </tr>\n",
       "  </thead>\n",
       "  <tbody>\n",
       "    <tr>\n",
       "      <th>269379</th>\n",
       "      <td>38358</td>\n",
       "      <td>96545</td>\n",
       "      <td>What is your favourite book and why?</td>\n",
       "      <td>What is your favourite book?</td>\n",
       "      <td>1</td>\n",
       "    </tr>\n",
       "    <tr>\n",
       "      <th>355210</th>\n",
       "      <td>484421</td>\n",
       "      <td>484422</td>\n",
       "      <td>How can you make a creative Humpty Dumpty cost...</td>\n",
       "      <td>What are some ways to make a Humpty Dumpty cos...</td>\n",
       "      <td>1</td>\n",
       "    </tr>\n",
       "    <tr>\n",
       "      <th>196799</th>\n",
       "      <td>297589</td>\n",
       "      <td>297590</td>\n",
       "      <td>What does it mean if a dog has diarrhea with b...</td>\n",
       "      <td>What does it mean if your dog is suffering fro...</td>\n",
       "      <td>1</td>\n",
       "    </tr>\n",
       "    <tr>\n",
       "      <th>159666</th>\n",
       "      <td>5059</td>\n",
       "      <td>55281</td>\n",
       "      <td>How can the drive from Edmonton to Auckland be...</td>\n",
       "      <td>How can the drive from Edmonton to Auckland be...</td>\n",
       "      <td>1</td>\n",
       "    </tr>\n",
       "    <tr>\n",
       "      <th>271550</th>\n",
       "      <td>75366</td>\n",
       "      <td>169831</td>\n",
       "      <td>Why should I study physics?</td>\n",
       "      <td>Why do we study physics?</td>\n",
       "      <td>1</td>\n",
       "    </tr>\n",
       "    <tr>\n",
       "      <th>...</th>\n",
       "      <td>...</td>\n",
       "      <td>...</td>\n",
       "      <td>...</td>\n",
       "      <td>...</td>\n",
       "      <td>...</td>\n",
       "    </tr>\n",
       "    <tr>\n",
       "      <th>71003</th>\n",
       "      <td>9903</td>\n",
       "      <td>122264</td>\n",
       "      <td>What should I do to get into an Ivy League col...</td>\n",
       "      <td>How can I get into an Ivy League college?</td>\n",
       "      <td>1</td>\n",
       "    </tr>\n",
       "    <tr>\n",
       "      <th>98184</th>\n",
       "      <td>163200</td>\n",
       "      <td>163201</td>\n",
       "      <td>What is the skeletal system?</td>\n",
       "      <td>What is the skeletal system and its function?</td>\n",
       "      <td>1</td>\n",
       "    </tr>\n",
       "    <tr>\n",
       "      <th>142991</th>\n",
       "      <td>107441</td>\n",
       "      <td>226656</td>\n",
       "      <td>Which book shall I prefer for the CAT?</td>\n",
       "      <td>Which book should I prefer for the CAT?</td>\n",
       "      <td>1</td>\n",
       "    </tr>\n",
       "    <tr>\n",
       "      <th>148570</th>\n",
       "      <td>234220</td>\n",
       "      <td>234221</td>\n",
       "      <td>What are some good ways to explain to a teache...</td>\n",
       "      <td>How do I prove my teacher wrong?</td>\n",
       "      <td>1</td>\n",
       "    </tr>\n",
       "    <tr>\n",
       "      <th>95387</th>\n",
       "      <td>31644</td>\n",
       "      <td>159091</td>\n",
       "      <td>How do you prepare for a job interview?</td>\n",
       "      <td>How can I prepare for a job interview?</td>\n",
       "      <td>1</td>\n",
       "    </tr>\n",
       "  </tbody>\n",
       "</table>\n",
       "<p>37006 rows × 5 columns</p>\n",
       "</div>"
      ],
      "text/plain": [
       "          qid1    qid2                                          question1  \\\n",
       "id                                                                          \n",
       "269379   38358   96545               What is your favourite book and why?   \n",
       "355210  484421  484422  How can you make a creative Humpty Dumpty cost...   \n",
       "196799  297589  297590  What does it mean if a dog has diarrhea with b...   \n",
       "159666    5059   55281  How can the drive from Edmonton to Auckland be...   \n",
       "271550   75366  169831                        Why should I study physics?   \n",
       "...        ...     ...                                                ...   \n",
       "71003     9903  122264  What should I do to get into an Ivy League col...   \n",
       "98184   163200  163201                       What is the skeletal system?   \n",
       "142991  107441  226656             Which book shall I prefer for the CAT?   \n",
       "148570  234220  234221  What are some good ways to explain to a teache...   \n",
       "95387    31644  159091            How do you prepare for a job interview?   \n",
       "\n",
       "                                                question2  is_duplicate  \n",
       "id                                                                       \n",
       "269379                       What is your favourite book?             1  \n",
       "355210  What are some ways to make a Humpty Dumpty cos...             1  \n",
       "196799  What does it mean if your dog is suffering fro...             1  \n",
       "159666  How can the drive from Edmonton to Auckland be...             1  \n",
       "271550                           Why do we study physics?             1  \n",
       "...                                                   ...           ...  \n",
       "71003           How can I get into an Ivy League college?             1  \n",
       "98184       What is the skeletal system and its function?             1  \n",
       "142991            Which book should I prefer for the CAT?             1  \n",
       "148570                   How do I prove my teacher wrong?             1  \n",
       "95387              How can I prepare for a job interview?             1  \n",
       "\n",
       "[37006 rows x 5 columns]"
      ]
     },
     "execution_count": 6,
     "metadata": {},
     "output_type": "execute_result"
    }
   ],
   "source": [
    "data = train_data.sample(n=100000).copy()\n",
    "data.loc[data['is_duplicate']==1]"
   ]
  },
  {
   "cell_type": "code",
   "execution_count": 7,
   "id": "ebb8f884",
   "metadata": {},
   "outputs": [],
   "source": [
    "def sen2list(sentence: str):\n",
    "    mod_lst = []\n",
    "    try:\n",
    "        sentence = clean_text(sentence)\n",
    "\n",
    "        lst = word_tokenize(sentence)\n",
    "        \n",
    "        #ps = PorterStemmer()\n",
    "        for word in lst:\n",
    "            c = word[0]\n",
    "            if word != \"\" and ((\"a\"<=c and c <=\"z\") or (\"A\" <= c and c <=\"Z\") or (\"0\"<= c and c <=\"9\")):\n",
    "                #mod_word = ps.stem(word)\n",
    "                mod_word = word\n",
    "                if mod_word not in stop_word:\n",
    "                    mod_lst.append(mod_word)\n",
    "        \n",
    "    except:\n",
    "        print(sentence)\n",
    "    \n",
    "    return mod_lst"
   ]
  },
  {
   "cell_type": "code",
   "execution_count": 8,
   "id": "8a14ee68",
   "metadata": {},
   "outputs": [
    {
     "data": {
      "text/plain": [
       "['favourite', 'book']"
      ]
     },
     "execution_count": 8,
     "metadata": {},
     "output_type": "execute_result"
    }
   ],
   "source": [
    "sen2list(data['question1'].iloc[0])"
   ]
  },
  {
   "cell_type": "code",
   "execution_count": 9,
   "id": "9821b760",
   "metadata": {},
   "outputs": [],
   "source": [
    "data['lst1'] = data.apply(lambda row: sen2list(row.question1), axis = 1)\n",
    "data['lst2'] = data.apply(lambda row: sen2list(row.question2), axis = 1)"
   ]
  },
  {
   "cell_type": "code",
   "execution_count": 12,
   "id": "566b4154",
   "metadata": {},
   "outputs": [
    {
     "data": {
      "text/html": [
       "<div>\n",
       "<style scoped>\n",
       "    .dataframe tbody tr th:only-of-type {\n",
       "        vertical-align: middle;\n",
       "    }\n",
       "\n",
       "    .dataframe tbody tr th {\n",
       "        vertical-align: top;\n",
       "    }\n",
       "\n",
       "    .dataframe thead th {\n",
       "        text-align: right;\n",
       "    }\n",
       "</style>\n",
       "<table border=\"1\" class=\"dataframe\">\n",
       "  <thead>\n",
       "    <tr style=\"text-align: right;\">\n",
       "      <th></th>\n",
       "      <th>qid1</th>\n",
       "      <th>qid2</th>\n",
       "      <th>question1</th>\n",
       "      <th>question2</th>\n",
       "      <th>is_duplicate</th>\n",
       "      <th>lst1</th>\n",
       "      <th>lst2</th>\n",
       "    </tr>\n",
       "    <tr>\n",
       "      <th>id</th>\n",
       "      <th></th>\n",
       "      <th></th>\n",
       "      <th></th>\n",
       "      <th></th>\n",
       "      <th></th>\n",
       "      <th></th>\n",
       "      <th></th>\n",
       "    </tr>\n",
       "  </thead>\n",
       "  <tbody>\n",
       "    <tr>\n",
       "      <th>269379</th>\n",
       "      <td>38358</td>\n",
       "      <td>96545</td>\n",
       "      <td>What is your favourite book and why?</td>\n",
       "      <td>What is your favourite book?</td>\n",
       "      <td>1</td>\n",
       "      <td>[favourite, book]</td>\n",
       "      <td>[favourite, book]</td>\n",
       "    </tr>\n",
       "    <tr>\n",
       "      <th>255652</th>\n",
       "      <td>180850</td>\n",
       "      <td>370585</td>\n",
       "      <td>Who will win the 25th match between Australia ...</td>\n",
       "      <td>Who will win the 3rd match between England and...</td>\n",
       "      <td>0</td>\n",
       "      <td>[win, 25th, match, australia, bangladesh, 2016...</td>\n",
       "      <td>[win, 3rd, match, england, bangladesh, 2016, k...</td>\n",
       "    </tr>\n",
       "    <tr>\n",
       "      <th>57252</th>\n",
       "      <td>100630</td>\n",
       "      <td>100631</td>\n",
       "      <td>What is the chemical equation for iron and sul...</td>\n",
       "      <td>What is the chemical equation for calcium and ...</td>\n",
       "      <td>0</td>\n",
       "      <td>[chemical, equation, iron, sulphuric, acid]</td>\n",
       "      <td>[chemical, equation, calcium, water]</td>\n",
       "    </tr>\n",
       "    <tr>\n",
       "      <th>376416</th>\n",
       "      <td>507555</td>\n",
       "      <td>507556</td>\n",
       "      <td>What is the formula for centroid of a cube?</td>\n",
       "      <td>What is the centroid of a cube?</td>\n",
       "      <td>0</td>\n",
       "      <td>[formula, centroid, cube]</td>\n",
       "      <td>[centroid, cube]</td>\n",
       "    </tr>\n",
       "    <tr>\n",
       "      <th>355210</th>\n",
       "      <td>484421</td>\n",
       "      <td>484422</td>\n",
       "      <td>How can you make a creative Humpty Dumpty cost...</td>\n",
       "      <td>What are some ways to make a Humpty Dumpty cos...</td>\n",
       "      <td>1</td>\n",
       "      <td>[make, creative, humpty, dumpty, costume]</td>\n",
       "      <td>[ways, make, humpty, dumpty, costume]</td>\n",
       "    </tr>\n",
       "    <tr>\n",
       "      <th>...</th>\n",
       "      <td>...</td>\n",
       "      <td>...</td>\n",
       "      <td>...</td>\n",
       "      <td>...</td>\n",
       "      <td>...</td>\n",
       "      <td>...</td>\n",
       "      <td>...</td>\n",
       "    </tr>\n",
       "    <tr>\n",
       "      <th>399342</th>\n",
       "      <td>532596</td>\n",
       "      <td>532597</td>\n",
       "      <td>Why does the USA have a very poor public trans...</td>\n",
       "      <td>What is the meaning of this thought,\"A develop...</td>\n",
       "      <td>0</td>\n",
       "      <td>[america, poor, public, transport, system, com...</td>\n",
       "      <td>[meaning, thought, developed, country, place, ...</td>\n",
       "    </tr>\n",
       "    <tr>\n",
       "      <th>221852</th>\n",
       "      <td>329288</td>\n",
       "      <td>329289</td>\n",
       "      <td>How can I mention someone so that all their fo...</td>\n",
       "      <td>How can I see @mentions for another Twitter user?</td>\n",
       "      <td>0</td>\n",
       "      <td>[mention, someone, followers, see, message]</td>\n",
       "      <td>[see, mentions, another, twitter, user]</td>\n",
       "    </tr>\n",
       "    <tr>\n",
       "      <th>148570</th>\n",
       "      <td>234220</td>\n",
       "      <td>234221</td>\n",
       "      <td>What are some good ways to explain to a teache...</td>\n",
       "      <td>How do I prove my teacher wrong?</td>\n",
       "      <td>1</td>\n",
       "      <td>[good, ways, explain, teacher, wrong]</td>\n",
       "      <td>[prove, teacher, wrong]</td>\n",
       "    </tr>\n",
       "    <tr>\n",
       "      <th>155813</th>\n",
       "      <td>23628</td>\n",
       "      <td>244017</td>\n",
       "      <td>What is the difference between a surge suppres...</td>\n",
       "      <td>What is the surge impedance method?</td>\n",
       "      <td>0</td>\n",
       "      <td>[difference, surge, suppressor, surge, protector]</td>\n",
       "      <td>[surge, impedance, method]</td>\n",
       "    </tr>\n",
       "    <tr>\n",
       "      <th>95387</th>\n",
       "      <td>31644</td>\n",
       "      <td>159091</td>\n",
       "      <td>How do you prepare for a job interview?</td>\n",
       "      <td>How can I prepare for a job interview?</td>\n",
       "      <td>1</td>\n",
       "      <td>[prepare, job, interview]</td>\n",
       "      <td>[prepare, job, interview]</td>\n",
       "    </tr>\n",
       "  </tbody>\n",
       "</table>\n",
       "<p>99967 rows × 7 columns</p>\n",
       "</div>"
      ],
      "text/plain": [
       "          qid1    qid2                                          question1  \\\n",
       "id                                                                          \n",
       "269379   38358   96545               What is your favourite book and why?   \n",
       "255652  180850  370585  Who will win the 25th match between Australia ...   \n",
       "57252   100630  100631  What is the chemical equation for iron and sul...   \n",
       "376416  507555  507556        What is the formula for centroid of a cube?   \n",
       "355210  484421  484422  How can you make a creative Humpty Dumpty cost...   \n",
       "...        ...     ...                                                ...   \n",
       "399342  532596  532597  Why does the USA have a very poor public trans...   \n",
       "221852  329288  329289  How can I mention someone so that all their fo...   \n",
       "148570  234220  234221  What are some good ways to explain to a teache...   \n",
       "155813   23628  244017  What is the difference between a surge suppres...   \n",
       "95387    31644  159091            How do you prepare for a job interview?   \n",
       "\n",
       "                                                question2  is_duplicate  \\\n",
       "id                                                                        \n",
       "269379                       What is your favourite book?             1   \n",
       "255652  Who will win the 3rd match between England and...             0   \n",
       "57252   What is the chemical equation for calcium and ...             0   \n",
       "376416                    What is the centroid of a cube?             0   \n",
       "355210  What are some ways to make a Humpty Dumpty cos...             1   \n",
       "...                                                   ...           ...   \n",
       "399342  What is the meaning of this thought,\"A develop...             0   \n",
       "221852  How can I see @mentions for another Twitter user?             0   \n",
       "148570                   How do I prove my teacher wrong?             1   \n",
       "155813                What is the surge impedance method?             0   \n",
       "95387              How can I prepare for a job interview?             1   \n",
       "\n",
       "                                                     lst1  \\\n",
       "id                                                          \n",
       "269379                                  [favourite, book]   \n",
       "255652  [win, 25th, match, australia, bangladesh, 2016...   \n",
       "57252         [chemical, equation, iron, sulphuric, acid]   \n",
       "376416                          [formula, centroid, cube]   \n",
       "355210          [make, creative, humpty, dumpty, costume]   \n",
       "...                                                   ...   \n",
       "399342  [america, poor, public, transport, system, com...   \n",
       "221852        [mention, someone, followers, see, message]   \n",
       "148570              [good, ways, explain, teacher, wrong]   \n",
       "155813  [difference, surge, suppressor, surge, protector]   \n",
       "95387                           [prepare, job, interview]   \n",
       "\n",
       "                                                     lst2  \n",
       "id                                                         \n",
       "269379                                  [favourite, book]  \n",
       "255652  [win, 3rd, match, england, bangladesh, 2016, k...  \n",
       "57252                [chemical, equation, calcium, water]  \n",
       "376416                                   [centroid, cube]  \n",
       "355210              [ways, make, humpty, dumpty, costume]  \n",
       "...                                                   ...  \n",
       "399342  [meaning, thought, developed, country, place, ...  \n",
       "221852            [see, mentions, another, twitter, user]  \n",
       "148570                            [prove, teacher, wrong]  \n",
       "155813                         [surge, impedance, method]  \n",
       "95387                           [prepare, job, interview]  \n",
       "\n",
       "[99967 rows x 7 columns]"
      ]
     },
     "execution_count": 12,
     "metadata": {},
     "output_type": "execute_result"
    }
   ],
   "source": [
    "data"
   ]
  },
  {
   "cell_type": "code",
   "execution_count": 11,
   "id": "ff23e96b",
   "metadata": {},
   "outputs": [],
   "source": [
    "data = data.loc[(data['lst1'].str.len() > 0) & (data['lst2'].str.len() > 0),:].copy()"
   ]
  },
  {
   "cell_type": "markdown",
   "id": "d46e54f5",
   "metadata": {},
   "source": [
    "#### Corpus"
   ]
  },
  {
   "cell_type": "code",
   "execution_count": 13,
   "id": "5db1e6fc",
   "metadata": {},
   "outputs": [],
   "source": [
    "from gensim import corpora"
   ]
  },
  {
   "cell_type": "code",
   "execution_count": 14,
   "id": "980c2f9d",
   "metadata": {},
   "outputs": [
    {
     "data": {
      "text/plain": [
       "199934"
      ]
     },
     "execution_count": 14,
     "metadata": {},
     "output_type": "execute_result"
    }
   ],
   "source": [
    "corpus = data['lst1'].tolist() + data['lst2'].tolist()\n",
    "len(corpus)"
   ]
  },
  {
   "cell_type": "code",
   "execution_count": 15,
   "id": "3639449d",
   "metadata": {},
   "outputs": [
    {
     "data": {
      "text/plain": [
       "47548"
      ]
     },
     "execution_count": 15,
     "metadata": {},
     "output_type": "execute_result"
    }
   ],
   "source": [
    "dictionary = corpora.Dictionary(corpus)\n",
    "len(dictionary.token2id)"
   ]
  },
  {
   "cell_type": "code",
   "execution_count": 16,
   "id": "8228cbc0",
   "metadata": {},
   "outputs": [],
   "source": [
    "seq_len = 50"
   ]
  },
  {
   "cell_type": "code",
   "execution_count": 17,
   "id": "829374bb",
   "metadata": {},
   "outputs": [],
   "source": [
    "def text_to_seq(lst: list) -> list:\n",
    "    if len(lst) < seq_len:\n",
    "        seq = [0 for n in range(seq_len-len(lst))] + [dictionary.token2id[word]+1 for word in lst]\n",
    "    else:\n",
    "        seq = [dictionary.token2id[word]+1 for word in lst[-seq_len:]]\n",
    "    return seq"
   ]
  },
  {
   "cell_type": "code",
   "execution_count": 18,
   "id": "a5fd8c45",
   "metadata": {},
   "outputs": [],
   "source": [
    "data['seq1'] = data.apply(lambda row: text_to_seq(row.lst1), axis = 1)\n",
    "data['seq2'] = data.apply(lambda row: text_to_seq(row.lst2), axis = 1)"
   ]
  },
  {
   "cell_type": "code",
   "execution_count": 19,
   "id": "cb16d642",
   "metadata": {},
   "outputs": [
    {
     "data": {
      "text/html": [
       "<div>\n",
       "<style scoped>\n",
       "    .dataframe tbody tr th:only-of-type {\n",
       "        vertical-align: middle;\n",
       "    }\n",
       "\n",
       "    .dataframe tbody tr th {\n",
       "        vertical-align: top;\n",
       "    }\n",
       "\n",
       "    .dataframe thead th {\n",
       "        text-align: right;\n",
       "    }\n",
       "</style>\n",
       "<table border=\"1\" class=\"dataframe\">\n",
       "  <thead>\n",
       "    <tr style=\"text-align: right;\">\n",
       "      <th></th>\n",
       "      <th>qid1</th>\n",
       "      <th>qid2</th>\n",
       "      <th>question1</th>\n",
       "      <th>question2</th>\n",
       "      <th>is_duplicate</th>\n",
       "      <th>lst1</th>\n",
       "      <th>lst2</th>\n",
       "      <th>seq1</th>\n",
       "      <th>seq2</th>\n",
       "    </tr>\n",
       "    <tr>\n",
       "      <th>id</th>\n",
       "      <th></th>\n",
       "      <th></th>\n",
       "      <th></th>\n",
       "      <th></th>\n",
       "      <th></th>\n",
       "      <th></th>\n",
       "      <th></th>\n",
       "      <th></th>\n",
       "      <th></th>\n",
       "    </tr>\n",
       "  </thead>\n",
       "  <tbody>\n",
       "    <tr>\n",
       "      <th>269379</th>\n",
       "      <td>38358</td>\n",
       "      <td>96545</td>\n",
       "      <td>What is your favourite book and why?</td>\n",
       "      <td>What is your favourite book?</td>\n",
       "      <td>1</td>\n",
       "      <td>[favourite, book]</td>\n",
       "      <td>[favourite, book]</td>\n",
       "      <td>[0, 0, 0, 0, 0, 0, 0, 0, 0, 0, 0, 0, 0, 0, 0, ...</td>\n",
       "      <td>[0, 0, 0, 0, 0, 0, 0, 0, 0, 0, 0, 0, 0, 0, 0, ...</td>\n",
       "    </tr>\n",
       "    <tr>\n",
       "      <th>255652</th>\n",
       "      <td>180850</td>\n",
       "      <td>370585</td>\n",
       "      <td>Who will win the 25th match between Australia ...</td>\n",
       "      <td>Who will win the 3rd match between England and...</td>\n",
       "      <td>0</td>\n",
       "      <td>[win, 25th, match, australia, bangladesh, 2016...</td>\n",
       "      <td>[win, 3rd, match, england, bangladesh, 2016, k...</td>\n",
       "      <td>[0, 0, 0, 0, 0, 0, 0, 0, 0, 0, 0, 0, 0, 0, 0, ...</td>\n",
       "      <td>[0, 0, 0, 0, 0, 0, 0, 0, 0, 0, 0, 0, 0, 0, 0, ...</td>\n",
       "    </tr>\n",
       "    <tr>\n",
       "      <th>57252</th>\n",
       "      <td>100630</td>\n",
       "      <td>100631</td>\n",
       "      <td>What is the chemical equation for iron and sul...</td>\n",
       "      <td>What is the chemical equation for calcium and ...</td>\n",
       "      <td>0</td>\n",
       "      <td>[chemical, equation, iron, sulphuric, acid]</td>\n",
       "      <td>[chemical, equation, calcium, water]</td>\n",
       "      <td>[0, 0, 0, 0, 0, 0, 0, 0, 0, 0, 0, 0, 0, 0, 0, ...</td>\n",
       "      <td>[0, 0, 0, 0, 0, 0, 0, 0, 0, 0, 0, 0, 0, 0, 0, ...</td>\n",
       "    </tr>\n",
       "    <tr>\n",
       "      <th>376416</th>\n",
       "      <td>507555</td>\n",
       "      <td>507556</td>\n",
       "      <td>What is the formula for centroid of a cube?</td>\n",
       "      <td>What is the centroid of a cube?</td>\n",
       "      <td>0</td>\n",
       "      <td>[formula, centroid, cube]</td>\n",
       "      <td>[centroid, cube]</td>\n",
       "      <td>[0, 0, 0, 0, 0, 0, 0, 0, 0, 0, 0, 0, 0, 0, 0, ...</td>\n",
       "      <td>[0, 0, 0, 0, 0, 0, 0, 0, 0, 0, 0, 0, 0, 0, 0, ...</td>\n",
       "    </tr>\n",
       "    <tr>\n",
       "      <th>355210</th>\n",
       "      <td>484421</td>\n",
       "      <td>484422</td>\n",
       "      <td>How can you make a creative Humpty Dumpty cost...</td>\n",
       "      <td>What are some ways to make a Humpty Dumpty cos...</td>\n",
       "      <td>1</td>\n",
       "      <td>[make, creative, humpty, dumpty, costume]</td>\n",
       "      <td>[ways, make, humpty, dumpty, costume]</td>\n",
       "      <td>[0, 0, 0, 0, 0, 0, 0, 0, 0, 0, 0, 0, 0, 0, 0, ...</td>\n",
       "      <td>[0, 0, 0, 0, 0, 0, 0, 0, 0, 0, 0, 0, 0, 0, 0, ...</td>\n",
       "    </tr>\n",
       "    <tr>\n",
       "      <th>...</th>\n",
       "      <td>...</td>\n",
       "      <td>...</td>\n",
       "      <td>...</td>\n",
       "      <td>...</td>\n",
       "      <td>...</td>\n",
       "      <td>...</td>\n",
       "      <td>...</td>\n",
       "      <td>...</td>\n",
       "      <td>...</td>\n",
       "    </tr>\n",
       "    <tr>\n",
       "      <th>399342</th>\n",
       "      <td>532596</td>\n",
       "      <td>532597</td>\n",
       "      <td>Why does the USA have a very poor public trans...</td>\n",
       "      <td>What is the meaning of this thought,\"A develop...</td>\n",
       "      <td>0</td>\n",
       "      <td>[america, poor, public, transport, system, com...</td>\n",
       "      <td>[meaning, thought, developed, country, place, ...</td>\n",
       "      <td>[0, 0, 0, 0, 0, 0, 0, 0, 0, 0, 0, 0, 0, 0, 0, ...</td>\n",
       "      <td>[0, 0, 0, 0, 0, 0, 0, 0, 0, 0, 0, 0, 0, 0, 0, ...</td>\n",
       "    </tr>\n",
       "    <tr>\n",
       "      <th>221852</th>\n",
       "      <td>329288</td>\n",
       "      <td>329289</td>\n",
       "      <td>How can I mention someone so that all their fo...</td>\n",
       "      <td>How can I see @mentions for another Twitter user?</td>\n",
       "      <td>0</td>\n",
       "      <td>[mention, someone, followers, see, message]</td>\n",
       "      <td>[see, mentions, another, twitter, user]</td>\n",
       "      <td>[0, 0, 0, 0, 0, 0, 0, 0, 0, 0, 0, 0, 0, 0, 0, ...</td>\n",
       "      <td>[0, 0, 0, 0, 0, 0, 0, 0, 0, 0, 0, 0, 0, 0, 0, ...</td>\n",
       "    </tr>\n",
       "    <tr>\n",
       "      <th>148570</th>\n",
       "      <td>234220</td>\n",
       "      <td>234221</td>\n",
       "      <td>What are some good ways to explain to a teache...</td>\n",
       "      <td>How do I prove my teacher wrong?</td>\n",
       "      <td>1</td>\n",
       "      <td>[good, ways, explain, teacher, wrong]</td>\n",
       "      <td>[prove, teacher, wrong]</td>\n",
       "      <td>[0, 0, 0, 0, 0, 0, 0, 0, 0, 0, 0, 0, 0, 0, 0, ...</td>\n",
       "      <td>[0, 0, 0, 0, 0, 0, 0, 0, 0, 0, 0, 0, 0, 0, 0, ...</td>\n",
       "    </tr>\n",
       "    <tr>\n",
       "      <th>155813</th>\n",
       "      <td>23628</td>\n",
       "      <td>244017</td>\n",
       "      <td>What is the difference between a surge suppres...</td>\n",
       "      <td>What is the surge impedance method?</td>\n",
       "      <td>0</td>\n",
       "      <td>[difference, surge, suppressor, surge, protector]</td>\n",
       "      <td>[surge, impedance, method]</td>\n",
       "      <td>[0, 0, 0, 0, 0, 0, 0, 0, 0, 0, 0, 0, 0, 0, 0, ...</td>\n",
       "      <td>[0, 0, 0, 0, 0, 0, 0, 0, 0, 0, 0, 0, 0, 0, 0, ...</td>\n",
       "    </tr>\n",
       "    <tr>\n",
       "      <th>95387</th>\n",
       "      <td>31644</td>\n",
       "      <td>159091</td>\n",
       "      <td>How do you prepare for a job interview?</td>\n",
       "      <td>How can I prepare for a job interview?</td>\n",
       "      <td>1</td>\n",
       "      <td>[prepare, job, interview]</td>\n",
       "      <td>[prepare, job, interview]</td>\n",
       "      <td>[0, 0, 0, 0, 0, 0, 0, 0, 0, 0, 0, 0, 0, 0, 0, ...</td>\n",
       "      <td>[0, 0, 0, 0, 0, 0, 0, 0, 0, 0, 0, 0, 0, 0, 0, ...</td>\n",
       "    </tr>\n",
       "  </tbody>\n",
       "</table>\n",
       "<p>99967 rows × 9 columns</p>\n",
       "</div>"
      ],
      "text/plain": [
       "          qid1    qid2                                          question1  \\\n",
       "id                                                                          \n",
       "269379   38358   96545               What is your favourite book and why?   \n",
       "255652  180850  370585  Who will win the 25th match between Australia ...   \n",
       "57252   100630  100631  What is the chemical equation for iron and sul...   \n",
       "376416  507555  507556        What is the formula for centroid of a cube?   \n",
       "355210  484421  484422  How can you make a creative Humpty Dumpty cost...   \n",
       "...        ...     ...                                                ...   \n",
       "399342  532596  532597  Why does the USA have a very poor public trans...   \n",
       "221852  329288  329289  How can I mention someone so that all their fo...   \n",
       "148570  234220  234221  What are some good ways to explain to a teache...   \n",
       "155813   23628  244017  What is the difference between a surge suppres...   \n",
       "95387    31644  159091            How do you prepare for a job interview?   \n",
       "\n",
       "                                                question2  is_duplicate  \\\n",
       "id                                                                        \n",
       "269379                       What is your favourite book?             1   \n",
       "255652  Who will win the 3rd match between England and...             0   \n",
       "57252   What is the chemical equation for calcium and ...             0   \n",
       "376416                    What is the centroid of a cube?             0   \n",
       "355210  What are some ways to make a Humpty Dumpty cos...             1   \n",
       "...                                                   ...           ...   \n",
       "399342  What is the meaning of this thought,\"A develop...             0   \n",
       "221852  How can I see @mentions for another Twitter user?             0   \n",
       "148570                   How do I prove my teacher wrong?             1   \n",
       "155813                What is the surge impedance method?             0   \n",
       "95387              How can I prepare for a job interview?             1   \n",
       "\n",
       "                                                     lst1  \\\n",
       "id                                                          \n",
       "269379                                  [favourite, book]   \n",
       "255652  [win, 25th, match, australia, bangladesh, 2016...   \n",
       "57252         [chemical, equation, iron, sulphuric, acid]   \n",
       "376416                          [formula, centroid, cube]   \n",
       "355210          [make, creative, humpty, dumpty, costume]   \n",
       "...                                                   ...   \n",
       "399342  [america, poor, public, transport, system, com...   \n",
       "221852        [mention, someone, followers, see, message]   \n",
       "148570              [good, ways, explain, teacher, wrong]   \n",
       "155813  [difference, surge, suppressor, surge, protector]   \n",
       "95387                           [prepare, job, interview]   \n",
       "\n",
       "                                                     lst2  \\\n",
       "id                                                          \n",
       "269379                                  [favourite, book]   \n",
       "255652  [win, 3rd, match, england, bangladesh, 2016, k...   \n",
       "57252                [chemical, equation, calcium, water]   \n",
       "376416                                   [centroid, cube]   \n",
       "355210              [ways, make, humpty, dumpty, costume]   \n",
       "...                                                   ...   \n",
       "399342  [meaning, thought, developed, country, place, ...   \n",
       "221852            [see, mentions, another, twitter, user]   \n",
       "148570                            [prove, teacher, wrong]   \n",
       "155813                         [surge, impedance, method]   \n",
       "95387                           [prepare, job, interview]   \n",
       "\n",
       "                                                     seq1  \\\n",
       "id                                                          \n",
       "269379  [0, 0, 0, 0, 0, 0, 0, 0, 0, 0, 0, 0, 0, 0, 0, ...   \n",
       "255652  [0, 0, 0, 0, 0, 0, 0, 0, 0, 0, 0, 0, 0, 0, 0, ...   \n",
       "57252   [0, 0, 0, 0, 0, 0, 0, 0, 0, 0, 0, 0, 0, 0, 0, ...   \n",
       "376416  [0, 0, 0, 0, 0, 0, 0, 0, 0, 0, 0, 0, 0, 0, 0, ...   \n",
       "355210  [0, 0, 0, 0, 0, 0, 0, 0, 0, 0, 0, 0, 0, 0, 0, ...   \n",
       "...                                                   ...   \n",
       "399342  [0, 0, 0, 0, 0, 0, 0, 0, 0, 0, 0, 0, 0, 0, 0, ...   \n",
       "221852  [0, 0, 0, 0, 0, 0, 0, 0, 0, 0, 0, 0, 0, 0, 0, ...   \n",
       "148570  [0, 0, 0, 0, 0, 0, 0, 0, 0, 0, 0, 0, 0, 0, 0, ...   \n",
       "155813  [0, 0, 0, 0, 0, 0, 0, 0, 0, 0, 0, 0, 0, 0, 0, ...   \n",
       "95387   [0, 0, 0, 0, 0, 0, 0, 0, 0, 0, 0, 0, 0, 0, 0, ...   \n",
       "\n",
       "                                                     seq2  \n",
       "id                                                         \n",
       "269379  [0, 0, 0, 0, 0, 0, 0, 0, 0, 0, 0, 0, 0, 0, 0, ...  \n",
       "255652  [0, 0, 0, 0, 0, 0, 0, 0, 0, 0, 0, 0, 0, 0, 0, ...  \n",
       "57252   [0, 0, 0, 0, 0, 0, 0, 0, 0, 0, 0, 0, 0, 0, 0, ...  \n",
       "376416  [0, 0, 0, 0, 0, 0, 0, 0, 0, 0, 0, 0, 0, 0, 0, ...  \n",
       "355210  [0, 0, 0, 0, 0, 0, 0, 0, 0, 0, 0, 0, 0, 0, 0, ...  \n",
       "...                                                   ...  \n",
       "399342  [0, 0, 0, 0, 0, 0, 0, 0, 0, 0, 0, 0, 0, 0, 0, ...  \n",
       "221852  [0, 0, 0, 0, 0, 0, 0, 0, 0, 0, 0, 0, 0, 0, 0, ...  \n",
       "148570  [0, 0, 0, 0, 0, 0, 0, 0, 0, 0, 0, 0, 0, 0, 0, ...  \n",
       "155813  [0, 0, 0, 0, 0, 0, 0, 0, 0, 0, 0, 0, 0, 0, 0, ...  \n",
       "95387   [0, 0, 0, 0, 0, 0, 0, 0, 0, 0, 0, 0, 0, 0, 0, ...  \n",
       "\n",
       "[99967 rows x 9 columns]"
      ]
     },
     "execution_count": 19,
     "metadata": {},
     "output_type": "execute_result"
    }
   ],
   "source": [
    "data"
   ]
  },
  {
   "cell_type": "code",
   "execution_count": 20,
   "id": "6ac7dbbb",
   "metadata": {},
   "outputs": [
    {
     "data": {
      "text/plain": [
       "[0,\n",
       " 0,\n",
       " 0,\n",
       " 0,\n",
       " 0,\n",
       " 0,\n",
       " 0,\n",
       " 0,\n",
       " 0,\n",
       " 0,\n",
       " 0,\n",
       " 0,\n",
       " 0,\n",
       " 0,\n",
       " 0,\n",
       " 0,\n",
       " 0,\n",
       " 0,\n",
       " 0,\n",
       " 0,\n",
       " 0,\n",
       " 0,\n",
       " 0,\n",
       " 0,\n",
       " 0,\n",
       " 0,\n",
       " 0,\n",
       " 0,\n",
       " 0,\n",
       " 0,\n",
       " 0,\n",
       " 0,\n",
       " 0,\n",
       " 0,\n",
       " 0,\n",
       " 0,\n",
       " 0,\n",
       " 0,\n",
       " 0,\n",
       " 0,\n",
       " 0,\n",
       " 0,\n",
       " 0,\n",
       " 0,\n",
       " 0,\n",
       " 0,\n",
       " 0,\n",
       " 0,\n",
       " 2,\n",
       " 1]"
      ]
     },
     "execution_count": 20,
     "metadata": {},
     "output_type": "execute_result"
    }
   ],
   "source": [
    "data['seq1'].iloc[0]"
   ]
  },
  {
   "cell_type": "code",
   "execution_count": null,
   "id": "79bcc1da",
   "metadata": {},
   "outputs": [],
   "source": []
  },
  {
   "cell_type": "markdown",
   "id": "b6a4e922",
   "metadata": {},
   "source": [
    "### Split set"
   ]
  },
  {
   "cell_type": "code",
   "execution_count": 21,
   "id": "0da483fd",
   "metadata": {},
   "outputs": [],
   "source": [
    "from sklearn.model_selection import train_test_split\n",
    "\n",
    "X_train, X_validation, y_train, y_validation = train_test_split(data[[\"seq1\", \"seq2\"]], data[\"is_duplicate\"], test_size=0.2)"
   ]
  },
  {
   "cell_type": "code",
   "execution_count": 22,
   "id": "0f04aca6",
   "metadata": {},
   "outputs": [
    {
     "data": {
      "text/html": [
       "<div>\n",
       "<style scoped>\n",
       "    .dataframe tbody tr th:only-of-type {\n",
       "        vertical-align: middle;\n",
       "    }\n",
       "\n",
       "    .dataframe tbody tr th {\n",
       "        vertical-align: top;\n",
       "    }\n",
       "\n",
       "    .dataframe thead th {\n",
       "        text-align: right;\n",
       "    }\n",
       "</style>\n",
       "<table border=\"1\" class=\"dataframe\">\n",
       "  <thead>\n",
       "    <tr style=\"text-align: right;\">\n",
       "      <th></th>\n",
       "      <th>seq1</th>\n",
       "      <th>seq2</th>\n",
       "    </tr>\n",
       "    <tr>\n",
       "      <th>id</th>\n",
       "      <th></th>\n",
       "      <th></th>\n",
       "    </tr>\n",
       "  </thead>\n",
       "  <tbody>\n",
       "    <tr>\n",
       "      <th>327428</th>\n",
       "      <td>[0, 0, 0, 0, 0, 0, 0, 0, 0, 0, 0, 0, 0, 0, 0, ...</td>\n",
       "      <td>[0, 0, 0, 0, 0, 0, 0, 0, 0, 0, 0, 0, 0, 0, 0, ...</td>\n",
       "    </tr>\n",
       "    <tr>\n",
       "      <th>360128</th>\n",
       "      <td>[0, 0, 0, 0, 0, 0, 0, 0, 0, 0, 0, 0, 0, 0, 0, ...</td>\n",
       "      <td>[0, 0, 0, 0, 0, 0, 0, 0, 0, 0, 0, 0, 0, 0, 0, ...</td>\n",
       "    </tr>\n",
       "    <tr>\n",
       "      <th>198116</th>\n",
       "      <td>[0, 0, 0, 0, 0, 0, 0, 0, 0, 0, 0, 0, 0, 0, 0, ...</td>\n",
       "      <td>[0, 0, 0, 0, 0, 0, 0, 0, 0, 0, 0, 0, 0, 0, 0, ...</td>\n",
       "    </tr>\n",
       "    <tr>\n",
       "      <th>266558</th>\n",
       "      <td>[0, 0, 0, 0, 0, 0, 0, 0, 0, 0, 0, 0, 0, 0, 0, ...</td>\n",
       "      <td>[0, 0, 0, 0, 0, 0, 0, 0, 0, 0, 0, 0, 0, 0, 0, ...</td>\n",
       "    </tr>\n",
       "    <tr>\n",
       "      <th>155916</th>\n",
       "      <td>[0, 0, 0, 0, 0, 0, 0, 0, 0, 0, 0, 0, 0, 0, 0, ...</td>\n",
       "      <td>[0, 0, 0, 0, 0, 0, 0, 0, 0, 0, 0, 0, 0, 0, 0, ...</td>\n",
       "    </tr>\n",
       "    <tr>\n",
       "      <th>...</th>\n",
       "      <td>...</td>\n",
       "      <td>...</td>\n",
       "    </tr>\n",
       "    <tr>\n",
       "      <th>202801</th>\n",
       "      <td>[0, 0, 0, 0, 0, 0, 0, 0, 0, 0, 0, 0, 0, 0, 0, ...</td>\n",
       "      <td>[0, 0, 0, 0, 0, 0, 0, 0, 0, 0, 0, 0, 0, 0, 0, ...</td>\n",
       "    </tr>\n",
       "    <tr>\n",
       "      <th>240086</th>\n",
       "      <td>[0, 0, 0, 0, 0, 0, 0, 0, 0, 0, 0, 0, 0, 0, 0, ...</td>\n",
       "      <td>[0, 0, 0, 0, 0, 0, 0, 0, 0, 0, 0, 0, 0, 0, 0, ...</td>\n",
       "    </tr>\n",
       "    <tr>\n",
       "      <th>25438</th>\n",
       "      <td>[0, 0, 0, 0, 0, 0, 0, 0, 0, 0, 0, 0, 0, 0, 0, ...</td>\n",
       "      <td>[0, 0, 0, 0, 0, 0, 0, 0, 0, 0, 0, 0, 0, 0, 0, ...</td>\n",
       "    </tr>\n",
       "    <tr>\n",
       "      <th>36875</th>\n",
       "      <td>[0, 0, 0, 0, 0, 0, 0, 0, 0, 0, 0, 0, 0, 0, 0, ...</td>\n",
       "      <td>[0, 0, 0, 0, 0, 0, 0, 0, 0, 0, 0, 0, 0, 0, 0, ...</td>\n",
       "    </tr>\n",
       "    <tr>\n",
       "      <th>123872</th>\n",
       "      <td>[0, 0, 0, 0, 0, 0, 0, 0, 0, 0, 0, 0, 0, 0, 0, ...</td>\n",
       "      <td>[0, 0, 0, 0, 0, 0, 0, 0, 0, 0, 0, 0, 0, 0, 0, ...</td>\n",
       "    </tr>\n",
       "  </tbody>\n",
       "</table>\n",
       "<p>79973 rows × 2 columns</p>\n",
       "</div>"
      ],
      "text/plain": [
       "                                                     seq1  \\\n",
       "id                                                          \n",
       "327428  [0, 0, 0, 0, 0, 0, 0, 0, 0, 0, 0, 0, 0, 0, 0, ...   \n",
       "360128  [0, 0, 0, 0, 0, 0, 0, 0, 0, 0, 0, 0, 0, 0, 0, ...   \n",
       "198116  [0, 0, 0, 0, 0, 0, 0, 0, 0, 0, 0, 0, 0, 0, 0, ...   \n",
       "266558  [0, 0, 0, 0, 0, 0, 0, 0, 0, 0, 0, 0, 0, 0, 0, ...   \n",
       "155916  [0, 0, 0, 0, 0, 0, 0, 0, 0, 0, 0, 0, 0, 0, 0, ...   \n",
       "...                                                   ...   \n",
       "202801  [0, 0, 0, 0, 0, 0, 0, 0, 0, 0, 0, 0, 0, 0, 0, ...   \n",
       "240086  [0, 0, 0, 0, 0, 0, 0, 0, 0, 0, 0, 0, 0, 0, 0, ...   \n",
       "25438   [0, 0, 0, 0, 0, 0, 0, 0, 0, 0, 0, 0, 0, 0, 0, ...   \n",
       "36875   [0, 0, 0, 0, 0, 0, 0, 0, 0, 0, 0, 0, 0, 0, 0, ...   \n",
       "123872  [0, 0, 0, 0, 0, 0, 0, 0, 0, 0, 0, 0, 0, 0, 0, ...   \n",
       "\n",
       "                                                     seq2  \n",
       "id                                                         \n",
       "327428  [0, 0, 0, 0, 0, 0, 0, 0, 0, 0, 0, 0, 0, 0, 0, ...  \n",
       "360128  [0, 0, 0, 0, 0, 0, 0, 0, 0, 0, 0, 0, 0, 0, 0, ...  \n",
       "198116  [0, 0, 0, 0, 0, 0, 0, 0, 0, 0, 0, 0, 0, 0, 0, ...  \n",
       "266558  [0, 0, 0, 0, 0, 0, 0, 0, 0, 0, 0, 0, 0, 0, 0, ...  \n",
       "155916  [0, 0, 0, 0, 0, 0, 0, 0, 0, 0, 0, 0, 0, 0, 0, ...  \n",
       "...                                                   ...  \n",
       "202801  [0, 0, 0, 0, 0, 0, 0, 0, 0, 0, 0, 0, 0, 0, 0, ...  \n",
       "240086  [0, 0, 0, 0, 0, 0, 0, 0, 0, 0, 0, 0, 0, 0, 0, ...  \n",
       "25438   [0, 0, 0, 0, 0, 0, 0, 0, 0, 0, 0, 0, 0, 0, 0, ...  \n",
       "36875   [0, 0, 0, 0, 0, 0, 0, 0, 0, 0, 0, 0, 0, 0, 0, ...  \n",
       "123872  [0, 0, 0, 0, 0, 0, 0, 0, 0, 0, 0, 0, 0, 0, 0, ...  \n",
       "\n",
       "[79973 rows x 2 columns]"
      ]
     },
     "execution_count": 22,
     "metadata": {},
     "output_type": "execute_result"
    }
   ],
   "source": [
    "X_train"
   ]
  },
  {
   "cell_type": "code",
   "execution_count": 23,
   "id": "fd65fc08",
   "metadata": {},
   "outputs": [
    {
     "data": {
      "text/plain": [
       "id\n",
       "327428    0\n",
       "360128    0\n",
       "198116    1\n",
       "266558    0\n",
       "155916    0\n",
       "         ..\n",
       "202801    0\n",
       "240086    0\n",
       "25438     0\n",
       "36875     0\n",
       "123872    0\n",
       "Name: is_duplicate, Length: 79973, dtype: int32"
      ]
     },
     "execution_count": 23,
     "metadata": {},
     "output_type": "execute_result"
    }
   ],
   "source": [
    "y_train"
   ]
  },
  {
   "cell_type": "code",
   "execution_count": 153,
   "id": "64673a84",
   "metadata": {},
   "outputs": [
    {
     "data": {
      "text/plain": [
       "list"
      ]
     },
     "execution_count": 153,
     "metadata": {},
     "output_type": "execute_result"
    }
   ],
   "source": [
    "type(X_train['seq1'].iloc[0])"
   ]
  },
  {
   "cell_type": "code",
   "execution_count": null,
   "id": "75bf67d9",
   "metadata": {},
   "outputs": [],
   "source": []
  },
  {
   "cell_type": "markdown",
   "id": "40bd9fb3",
   "metadata": {},
   "source": [
    "# Import Glove"
   ]
  },
  {
   "cell_type": "code",
   "execution_count": null,
   "id": "4c5d7607",
   "metadata": {},
   "outputs": [],
   "source": []
  },
  {
   "cell_type": "code",
   "execution_count": 24,
   "id": "fa9af0c8",
   "metadata": {},
   "outputs": [],
   "source": [
    "EMBEDDING_FILE = 'glove.6B.100d.txt'"
   ]
  },
  {
   "cell_type": "code",
   "execution_count": 25,
   "id": "250e3436",
   "metadata": {},
   "outputs": [],
   "source": [
    "embed_dict = {}\n",
    "for o in open(EMBEDDING_FILE, encoding='utf-8'):\n",
    "    o_lst = o.split(\" \")\n",
    "    embed_dict[o_lst[0]] = np.asarray(o_lst[1:], dtype='float32')[:100]"
   ]
  },
  {
   "cell_type": "code",
   "execution_count": 26,
   "id": "844c0c80",
   "metadata": {},
   "outputs": [
    {
     "data": {
      "text/plain": [
       "(100,)"
      ]
     },
     "execution_count": 26,
     "metadata": {},
     "output_type": "execute_result"
    }
   ],
   "source": [
    "embed_dict['the'].shape"
   ]
  },
  {
   "cell_type": "code",
   "execution_count": 27,
   "id": "21ff5e82",
   "metadata": {},
   "outputs": [
    {
     "data": {
      "text/plain": [
       "400001"
      ]
     },
     "execution_count": 27,
     "metadata": {},
     "output_type": "execute_result"
    }
   ],
   "source": [
    "len(embed_dict.keys())"
   ]
  },
  {
   "cell_type": "code",
   "execution_count": null,
   "id": "0ada3ff1",
   "metadata": {},
   "outputs": [],
   "source": []
  },
  {
   "cell_type": "code",
   "execution_count": 28,
   "id": "5ba6de1a",
   "metadata": {},
   "outputs": [
    {
     "data": {
      "text/plain": [
       "array([ 5.2346e-02, -6.4872e-02, -2.2969e-01, -1.9626e-02,  2.4551e-01,\n",
       "        2.6228e-01,  4.5854e-01,  2.2948e-01, -4.9086e-01, -2.0671e-01,\n",
       "        3.4402e-01, -4.6660e-02,  7.4588e-02,  4.5667e-01,  3.3393e-01,\n",
       "        1.2274e-01, -4.3574e-01, -6.4115e-02, -5.8127e-01,  6.0061e-02,\n",
       "        8.0394e-01, -4.8664e-01, -8.5516e-03,  7.4187e-01,  3.9295e-01,\n",
       "       -2.0148e-01, -2.1781e-01,  5.5098e-02,  1.2245e-01, -1.5723e-01,\n",
       "       -2.0093e-01,  2.1990e-01,  1.2953e-01,  1.0737e-02, -3.0524e-01,\n",
       "        2.2466e-01,  3.8637e-01, -1.6129e-01, -4.1141e-01,  5.2801e-02,\n",
       "       -4.4697e-01, -2.8872e-01,  1.7551e-01,  2.1389e-01,  1.5470e-01,\n",
       "       -3.3769e-01,  3.8086e-01, -3.3577e-01,  4.8071e-01, -8.7916e-01,\n",
       "        6.3989e-02,  7.5071e-02,  1.1240e-01,  7.3637e-01, -1.6774e-01,\n",
       "       -2.3195e+00, -5.0312e-01,  9.5163e-02,  1.1419e+00,  7.6243e-01,\n",
       "       -3.8345e-01,  4.9045e-01,  2.3280e-01, -8.0937e-02,  5.3929e-01,\n",
       "       -1.3643e-01, -2.2535e-01, -1.4808e-01,  2.1617e-01,  1.9022e-01,\n",
       "       -6.8111e-01,  3.2864e-01, -3.3685e-01, -2.4814e-01, -1.5890e-01,\n",
       "        5.0614e-01, -1.8824e-01, -5.9568e-02, -7.7290e-01, -2.6761e-01,\n",
       "        5.0603e-01,  1.8679e-04, -3.5276e-01,  2.2721e-01, -1.1236e+00,\n",
       "       -2.7290e-01,  1.4338e-02, -5.4954e-01,  3.0122e-03, -3.5467e-01,\n",
       "       -3.0139e-02, -3.8260e-01, -7.8482e-01,  6.4861e-01, -3.7057e-01,\n",
       "        1.4683e-01, -2.0662e-01,  1.9906e-01, -4.2581e-02, -2.5685e-01],\n",
       "      dtype=float32)"
      ]
     },
     "execution_count": 28,
     "metadata": {},
     "output_type": "execute_result"
    }
   ],
   "source": [
    "embed_dict['followed']"
   ]
  },
  {
   "cell_type": "code",
   "execution_count": 29,
   "id": "6cc1c8dd",
   "metadata": {},
   "outputs": [],
   "source": [
    "special = [w for w in embed_dict.keys() if not ((\"a\"<=w[0] and w[0] <=\"z\") or (\"A\" <= w[0] and w[0] <=\"Z\") or (\"0\"<= w[0] and w[0] <=\"9\"))]"
   ]
  },
  {
   "cell_type": "code",
   "execution_count": 30,
   "id": "8a1c20ec",
   "metadata": {},
   "outputs": [
    {
     "data": {
      "text/plain": [
       "'ས'"
      ]
     },
     "execution_count": 30,
     "metadata": {},
     "output_type": "execute_result"
    }
   ],
   "source": [
    "special[1000]"
   ]
  },
  {
   "cell_type": "code",
   "execution_count": 31,
   "id": "4f1d4a44",
   "metadata": {},
   "outputs": [],
   "source": [
    "all_embs = np.stack(list(embed_dict.values()))"
   ]
  },
  {
   "cell_type": "code",
   "execution_count": 32,
   "id": "7448c470",
   "metadata": {},
   "outputs": [
    {
     "data": {
      "text/plain": [
       "(400001, 100)"
      ]
     },
     "execution_count": 32,
     "metadata": {},
     "output_type": "execute_result"
    }
   ],
   "source": [
    "all_embs.shape"
   ]
  },
  {
   "cell_type": "code",
   "execution_count": 33,
   "id": "cc505f82",
   "metadata": {},
   "outputs": [],
   "source": [
    "vocab_size = len(dictionary.token2id) + 1\n",
    "substi_vector = np.asarray([0 for n in range(100)], dtype = 'float32')\n",
    "      \n",
    "# Adding again 1 because of reserved 0 index\n",
    "subs_num = 1\n",
    "embedding_matrix = np.zeros((vocab_size,100))\n",
    "ps = PorterStemmer()\n",
    "for word, idx in dictionary.token2id.items():\n",
    "    if word in embed_dict.keys():\n",
    "        embedding_matrix[idx+1] = embed_dict[word]\n",
    "    else:\n",
    "        mod_word = ps.stem(word)\n",
    "        if mod_word in embed_dict.keys():\n",
    "            embedding_matrix[idx+1] = embed_dict[mod_word]\n",
    "        else:\n",
    "            embedding_matrix[idx+1] = substi_vector\n",
    "            subs_num += 1\n",
    "        \n",
    "embedding_matrix[0] = substi_vector"
   ]
  },
  {
   "cell_type": "code",
   "execution_count": 34,
   "id": "01dfc135",
   "metadata": {},
   "outputs": [
    {
     "data": {
      "text/plain": [
       "9170"
      ]
     },
     "execution_count": 34,
     "metadata": {},
     "output_type": "execute_result"
    }
   ],
   "source": [
    "subs_num"
   ]
  },
  {
   "cell_type": "code",
   "execution_count": 35,
   "id": "93a10ef2",
   "metadata": {},
   "outputs": [
    {
     "data": {
      "text/plain": [
       "(47549, 100)"
      ]
     },
     "execution_count": 35,
     "metadata": {},
     "output_type": "execute_result"
    }
   ],
   "source": [
    "embedding_matrix.shape"
   ]
  },
  {
   "cell_type": "code",
   "execution_count": 36,
   "id": "14c85480",
   "metadata": {},
   "outputs": [
    {
     "data": {
      "text/plain": [
       "dtype('float64')"
      ]
     },
     "execution_count": 36,
     "metadata": {},
     "output_type": "execute_result"
    }
   ],
   "source": [
    "embedding_matrix.dtype"
   ]
  },
  {
   "cell_type": "code",
   "execution_count": 37,
   "id": "6929b511",
   "metadata": {},
   "outputs": [
    {
     "data": {
      "text/plain": [
       "array([-1.97439998e-01,  4.48309988e-01,  1.36889994e-01, -1.55949995e-01,\n",
       "        9.35999990e-01,  7.29860008e-01,  3.40990007e-01, -3.38959992e-01,\n",
       "       -8.95690024e-02, -4.77059990e-01,  3.51119995e-01, -4.21979994e-01,\n",
       "       -1.22210003e-01, -6.33750036e-02, -4.58200008e-01,  7.87230015e-01,\n",
       "        9.40450013e-01,  8.11010003e-02, -2.32240006e-01,  4.07779992e-01,\n",
       "        3.32580000e-01, -4.44579989e-01, -4.71170008e-01,  1.48519993e-01,\n",
       "        9.63079989e-01, -6.52669966e-02, -5.36610000e-02, -6.74740016e-01,\n",
       "       -4.23640013e-01,  9.43920016e-02, -3.86680007e-01,  1.82370007e-01,\n",
       "       -1.28460005e-01, -2.19520003e-01, -5.89929998e-01,  7.36020029e-01,\n",
       "       -2.40089998e-01,  3.23920012e-01, -2.46629998e-01, -4.06839997e-01,\n",
       "       -5.24680018e-01,  4.61739987e-01, -1.49360001e-01, -1.19989999e-01,\n",
       "       -1.39899999e-01, -4.49440002e-01, -2.65650004e-01, -7.00609982e-01,\n",
       "        3.01880002e-01, -1.12089999e-01,  6.63230002e-01,  3.96979988e-01,\n",
       "        6.91579998e-01,  8.34420025e-01, -5.27170002e-01, -2.53139997e+00,\n",
       "        1.32809997e-01,  3.02529991e-01,  1.10619998e+00,  7.22210016e-03,\n",
       "        2.60309994e-01,  1.15840006e+00, -7.93299973e-02, -7.66589999e-01,\n",
       "        1.26230001e+00, -6.20710015e-01,  5.98209977e-01,  7.35390007e-01,\n",
       "        3.85729998e-01, -4.02929991e-01, -3.14400010e-02,  7.78630018e-01,\n",
       "        3.15250009e-01,  1.90029994e-01, -6.58209980e-01,  4.05479997e-01,\n",
       "        5.35959983e-03,  5.52739985e-02, -1.22379994e+00, -4.89119999e-02,\n",
       "       -3.05110008e-01,  4.44730014e-01, -3.38259995e-01, -2.21330002e-01,\n",
       "       -1.32140005e+00, -6.47610009e-01, -4.40210015e-01, -1.49100006e+00,\n",
       "       -2.24949997e-02,  6.03459999e-02,  1.48330003e-01,  4.41619992e-01,\n",
       "        7.97869980e-01, -2.80759990e-01, -2.94000003e-02, -1.56560004e-01,\n",
       "       -1.26499996e-01, -5.69679976e-01,  1.53739995e-03,  6.66000009e-01])"
      ]
     },
     "execution_count": 37,
     "metadata": {},
     "output_type": "execute_result"
    }
   ],
   "source": [
    "embedding_matrix[1]"
   ]
  },
  {
   "cell_type": "code",
   "execution_count": null,
   "id": "f8a90264",
   "metadata": {},
   "outputs": [],
   "source": []
  },
  {
   "cell_type": "code",
   "execution_count": null,
   "id": "ba2e585b",
   "metadata": {},
   "outputs": [],
   "source": []
  },
  {
   "cell_type": "markdown",
   "id": "5a8357f6",
   "metadata": {},
   "source": [
    "# Create DataLoader"
   ]
  },
  {
   "cell_type": "code",
   "execution_count": 38,
   "id": "199dba2c",
   "metadata": {},
   "outputs": [
    {
     "data": {
      "text/plain": [
       "(79973, 50)"
      ]
     },
     "execution_count": 38,
     "metadata": {},
     "output_type": "execute_result"
    }
   ],
   "source": [
    "X_train_1 = [np.asarray(lst, dtype='long') for lst in X_train['seq1'].values]\n",
    "X_train_1 = np.stack(X_train_1)\n",
    "X_train_1.shape"
   ]
  },
  {
   "cell_type": "code",
   "execution_count": 39,
   "id": "076d5d0d",
   "metadata": {},
   "outputs": [
    {
     "data": {
      "text/plain": [
       "array([   0,    0,    0,    0,    0,    0,    0,    0,    0,    0,    0,\n",
       "          0,    0,    0,    0,    0,    0,    0,    0,    0,    0,    0,\n",
       "          0,    0,    0,    0,    0,    0,    0,    0,    0,    0,    0,\n",
       "          0,    0,    0,    0,    0,    0,    0,    0,    0,    0,    0,\n",
       "          0,    0,    0,    0, 7882, 1780])"
      ]
     },
     "execution_count": 39,
     "metadata": {},
     "output_type": "execute_result"
    }
   ],
   "source": [
    "X_train_1[0]"
   ]
  },
  {
   "cell_type": "code",
   "execution_count": 40,
   "id": "e4b29f13",
   "metadata": {},
   "outputs": [
    {
     "data": {
      "text/plain": [
       "(79973, 50)"
      ]
     },
     "execution_count": 40,
     "metadata": {},
     "output_type": "execute_result"
    }
   ],
   "source": [
    "X_train_2 = [np.asarray(lst, dtype='long') for lst in X_train['seq2'].values]\n",
    "X_train_2 = np.stack(X_train_2)\n",
    "X_train_2.shape"
   ]
  },
  {
   "cell_type": "code",
   "execution_count": 41,
   "id": "a15377b5",
   "metadata": {},
   "outputs": [
    {
     "data": {
      "text/plain": [
       "array([   0,    0,    0,    0,    0,    0,    0,    0,    0,    0,    0,\n",
       "          0,    0,    0,    0,    0,    0,    0,    0,    0,    0,    0,\n",
       "          0,    0,    0,    0,    0,    0,    0,    0,    0,    0,    0,\n",
       "          0,    0,    0,    0,    0,    0,    0,    0,    0,    0,    0,\n",
       "          0,    0,    0,    0,    0, 5915])"
      ]
     },
     "execution_count": 41,
     "metadata": {},
     "output_type": "execute_result"
    }
   ],
   "source": [
    "X_train_2[0]"
   ]
  },
  {
   "cell_type": "code",
   "execution_count": 42,
   "id": "adcd3b57",
   "metadata": {},
   "outputs": [],
   "source": [
    "import torch"
   ]
  },
  {
   "cell_type": "code",
   "execution_count": 43,
   "id": "67ca7125",
   "metadata": {},
   "outputs": [
    {
     "data": {
      "text/plain": [
       "array([[    0,     0,     0, ...,     0,  7882,  1780],\n",
       "       [    0,     0,     0, ...,     0,     0,   785],\n",
       "       [    0,     0,     0, ...,    92, 13550,  4389],\n",
       "       ...,\n",
       "       [    0,     0,     0, ...,   568,    79,   845],\n",
       "       [    0,     0,     0, ...,  2792,  1027,  1290],\n",
       "       [    0,     0,     0, ...,  1178,   121,  1177]])"
      ]
     },
     "execution_count": 43,
     "metadata": {},
     "output_type": "execute_result"
    }
   ],
   "source": [
    "X_train_1"
   ]
  },
  {
   "cell_type": "code",
   "execution_count": 44,
   "id": "dfe70e9a",
   "metadata": {},
   "outputs": [],
   "source": [
    "X_train_1_tensor = torch.tensor(X_train_1, dtype=torch.long)"
   ]
  },
  {
   "cell_type": "code",
   "execution_count": 45,
   "id": "ac35331e",
   "metadata": {},
   "outputs": [
    {
     "data": {
      "text/plain": [
       "tensor([[    0,     0,     0,  ...,     0,  7882,  1780],\n",
       "        [    0,     0,     0,  ...,     0,     0,   785],\n",
       "        [    0,     0,     0,  ...,    92, 13550,  4389],\n",
       "        ...,\n",
       "        [    0,     0,     0,  ...,   568,    79,   845],\n",
       "        [    0,     0,     0,  ...,  2792,  1027,  1290],\n",
       "        [    0,     0,     0,  ...,  1178,   121,  1177]])"
      ]
     },
     "execution_count": 45,
     "metadata": {},
     "output_type": "execute_result"
    }
   ],
   "source": [
    "X_train_1_tensor"
   ]
  },
  {
   "cell_type": "code",
   "execution_count": 46,
   "id": "37bc974e",
   "metadata": {},
   "outputs": [],
   "source": [
    "X_train_2_tensor = torch.tensor(X_train_2, dtype=torch.long)"
   ]
  },
  {
   "cell_type": "code",
   "execution_count": 47,
   "id": "6c228090",
   "metadata": {},
   "outputs": [
    {
     "data": {
      "text/plain": [
       "tensor([[    0,     0,     0,  ...,     0,     0,  5915],\n",
       "        [    0,     0,     0,  ...,     0,   785,  3342],\n",
       "        [    0,     0,     0,  ...,    92, 13550, 11034],\n",
       "        ...,\n",
       "        [    0,     0,     0,  ...,   568,   195,   845],\n",
       "        [    0,     0,     0,  ...,   458,   458,   357],\n",
       "        [    0,     0,     0,  ...,   726,  1347,   326]])"
      ]
     },
     "execution_count": 47,
     "metadata": {},
     "output_type": "execute_result"
    }
   ],
   "source": [
    "X_train_2_tensor"
   ]
  },
  {
   "cell_type": "code",
   "execution_count": 48,
   "id": "dc8136e0",
   "metadata": {},
   "outputs": [],
   "source": [
    "y_train =  [np.asarray(lst, dtype='float32') for lst in y_train.values]"
   ]
  },
  {
   "cell_type": "code",
   "execution_count": 49,
   "id": "18eb67c7",
   "metadata": {},
   "outputs": [
    {
     "data": {
      "text/plain": [
       "array([0., 0., 1., ..., 0., 0., 0.], dtype=float32)"
      ]
     },
     "execution_count": 49,
     "metadata": {},
     "output_type": "execute_result"
    }
   ],
   "source": [
    "y_train = np.stack(y_train)\n",
    "y_train"
   ]
  },
  {
   "cell_type": "code",
   "execution_count": 50,
   "id": "bf52d813",
   "metadata": {},
   "outputs": [],
   "source": [
    "y_train_tensor = torch.tensor(y_train, dtype=torch.float32)"
   ]
  },
  {
   "cell_type": "code",
   "execution_count": 51,
   "id": "468d148a",
   "metadata": {},
   "outputs": [
    {
     "data": {
      "text/plain": [
       "tensor([0., 0., 1.,  ..., 0., 0., 0.])"
      ]
     },
     "execution_count": 51,
     "metadata": {},
     "output_type": "execute_result"
    }
   ],
   "source": [
    "y_train_tensor"
   ]
  },
  {
   "cell_type": "code",
   "execution_count": 52,
   "id": "31a37395",
   "metadata": {},
   "outputs": [
    {
     "data": {
      "text/plain": [
       "(19994, 50)"
      ]
     },
     "execution_count": 52,
     "metadata": {},
     "output_type": "execute_result"
    }
   ],
   "source": [
    "X_validation_1 = [np.asarray(lst, dtype='long') for lst in X_validation['seq1'].values]\n",
    "X_validation_1 = np.stack(X_validation_1)\n",
    "X_validation_1.shape"
   ]
  },
  {
   "cell_type": "code",
   "execution_count": 53,
   "id": "51def2b3",
   "metadata": {},
   "outputs": [
    {
     "data": {
      "text/plain": [
       "(19994, 50)"
      ]
     },
     "execution_count": 53,
     "metadata": {},
     "output_type": "execute_result"
    }
   ],
   "source": [
    "X_validation_2 = [np.asarray(lst, dtype='long') for lst in X_validation['seq2'].values]\n",
    "X_validation_2 = np.stack(X_validation_2)\n",
    "X_validation_2.shape"
   ]
  },
  {
   "cell_type": "code",
   "execution_count": 54,
   "id": "e3ea8798",
   "metadata": {},
   "outputs": [
    {
     "data": {
      "text/plain": [
       "array([1., 0., 0., ..., 0., 0., 1.], dtype=float32)"
      ]
     },
     "execution_count": 54,
     "metadata": {},
     "output_type": "execute_result"
    }
   ],
   "source": [
    "y_validation =  [np.asarray(lst, dtype='float32') for lst in y_validation.values]\n",
    "y_validation = np.stack(y_validation)\n",
    "y_validation"
   ]
  },
  {
   "cell_type": "code",
   "execution_count": 55,
   "id": "290a9a0b",
   "metadata": {},
   "outputs": [],
   "source": [
    "X_validation_1_tensor = torch.tensor(X_validation_1, dtype=torch.long)\n",
    "X_validation_2_tensor = torch.tensor(X_validation_2, dtype=torch.long)\n",
    "y_validation_tensor = torch.tensor(y_validation, dtype=torch.float32)"
   ]
  },
  {
   "cell_type": "code",
   "execution_count": null,
   "id": "c838f557",
   "metadata": {},
   "outputs": [],
   "source": []
  },
  {
   "cell_type": "code",
   "execution_count": 56,
   "id": "e83a9ac5",
   "metadata": {},
   "outputs": [],
   "source": [
    "train = torch.utils.data.TensorDataset(X_train_1_tensor, X_train_2_tensor, y_train_tensor)"
   ]
  },
  {
   "cell_type": "code",
   "execution_count": 57,
   "id": "6cfd3e70",
   "metadata": {},
   "outputs": [
    {
     "data": {
      "text/plain": [
       "(tensor([   0,    0,    0,    0,    0,    0,    0,    0,    0,    0,    0,    0,\n",
       "            0,    0,    0,    0,    0,    0,    0,    0,    0,    0,    0,    0,\n",
       "            0,    0,    0,    0,    0,    0,    0,    0,    0,    0,    0,    0,\n",
       "            0,    0,    0,    0,    0,    0,    0,    0,    0,    0,    0,    0,\n",
       "         7882, 1780]),\n",
       " tensor([   0,    0,    0,    0,    0,    0,    0,    0,    0,    0,    0,    0,\n",
       "            0,    0,    0,    0,    0,    0,    0,    0,    0,    0,    0,    0,\n",
       "            0,    0,    0,    0,    0,    0,    0,    0,    0,    0,    0,    0,\n",
       "            0,    0,    0,    0,    0,    0,    0,    0,    0,    0,    0,    0,\n",
       "            0, 5915]),\n",
       " tensor(0.))"
      ]
     },
     "execution_count": 57,
     "metadata": {},
     "output_type": "execute_result"
    }
   ],
   "source": [
    "train.__getitem__(0)"
   ]
  },
  {
   "cell_type": "code",
   "execution_count": 58,
   "id": "9f7eaf13",
   "metadata": {},
   "outputs": [],
   "source": [
    "validation = torch.utils.data.TensorDataset(X_validation_1_tensor, X_validation_2_tensor, y_validation_tensor)"
   ]
  },
  {
   "cell_type": "code",
   "execution_count": 59,
   "id": "63c8e47f",
   "metadata": {},
   "outputs": [
    {
     "data": {
      "text/plain": [
       "19994"
      ]
     },
     "execution_count": 59,
     "metadata": {},
     "output_type": "execute_result"
    }
   ],
   "source": [
    "validation.__len__()"
   ]
  },
  {
   "cell_type": "code",
   "execution_count": null,
   "id": "4a119380",
   "metadata": {},
   "outputs": [],
   "source": []
  },
  {
   "cell_type": "code",
   "execution_count": 64,
   "id": "3454a6cd",
   "metadata": {},
   "outputs": [],
   "source": [
    "import multiprocessing\n",
    "\n",
    "from torch.utils.data import DataLoader, RandomSampler, SequentialSampler\n",
    "\n",
    "# The DataLoader needs to know our batch size for training, so we specify it \n",
    "# here.\n",
    "batch_size = 32\n",
    "\n",
    "#core_number = multiprocessing.cpu_count()\n",
    "\n",
    "# Create the DataLoaders for our training and validation sets.\n",
    "# We'll take training samples in random order. \n",
    "train_dataloader = DataLoader(\n",
    "            train,  # The training samples.\n",
    "            shuffle=True, # Select batches randomly\n",
    "            batch_size = batch_size, # Trains with this batch size.\n",
    "            num_workers = 1\n",
    "        )\n",
    "\n",
    "# For validation the order doesn't matter, so we'll just read them sequentially.\n",
    "validation_dataloader = DataLoader(\n",
    "            validation, # The validation samples.\n",
    "            shuffle=False, # Pull out batches sequentially.\n",
    "            batch_size = batch_size, # Evaluate with this batch size.\n",
    "            num_workers = 1\n",
    "        )"
   ]
  },
  {
   "cell_type": "code",
   "execution_count": 65,
   "id": "2c4a0026",
   "metadata": {},
   "outputs": [
    {
     "data": {
      "text/plain": [
       "2500"
      ]
     },
     "execution_count": 65,
     "metadata": {},
     "output_type": "execute_result"
    }
   ],
   "source": [
    "train_dataloader.__len__()"
   ]
  },
  {
   "cell_type": "code",
   "execution_count": 68,
   "id": "c2463741",
   "metadata": {},
   "outputs": [],
   "source": [
    "n = 0\n",
    "for batch in train_dataloader:\n",
    "    if n == 0:\n",
    "        batch_sample = batch\n",
    "        break"
   ]
  },
  {
   "cell_type": "code",
   "execution_count": 69,
   "id": "a0913742",
   "metadata": {},
   "outputs": [
    {
     "data": {
      "text/plain": [
       "[tensor([[    0,     0,     0,  ..., 36068,  5096, 11495],\n",
       "         [    0,     0,     0,  ...,  8991,   656,  8990],\n",
       "         [    0,     0,     0,  ...,  6524,   373, 11206],\n",
       "         ...,\n",
       "         [    0,     0,     0,  ...,   213,   838,  1118],\n",
       "         [    0,     0,     0,  ...,     0,   230,  1904],\n",
       "         [    0,     0,     0,  ...,     0,    92,  2879]]),\n",
       " tensor([[    0,     0,     0,  ...,  1750,   107, 24112],\n",
       "         [    0,     0,     0,  ...,     0,  7320,  8991],\n",
       "         [    0,     0,     0,  ...,  6524,   373, 37783],\n",
       "         ...,\n",
       "         [    0,     0,     0,  ...,  4132,  6608, 37692],\n",
       "         [    0,     0,     0,  ...,     0,   230,  1893],\n",
       "         [    0,     0,     0,  ...,  2879,  1957,   311]]),\n",
       " tensor([0., 0., 0., 0., 1., 0., 0., 0., 0., 0., 0., 1., 0., 0., 0., 0., 1., 0.,\n",
       "         1., 0., 1., 1., 0., 0., 0., 0., 1., 1., 0., 0., 0., 1.])]"
      ]
     },
     "execution_count": 69,
     "metadata": {},
     "output_type": "execute_result"
    }
   ],
   "source": [
    "batch_sample"
   ]
  },
  {
   "cell_type": "code",
   "execution_count": null,
   "id": "008a4ca1",
   "metadata": {},
   "outputs": [],
   "source": []
  },
  {
   "cell_type": "markdown",
   "id": "6f3d7334",
   "metadata": {},
   "source": [
    "### Test"
   ]
  },
  {
   "cell_type": "code",
   "execution_count": 85,
   "id": "686cdffd",
   "metadata": {},
   "outputs": [],
   "source": [
    "test_embedding = nn.Embedding(embedding_dim, 100)\n",
    "test_embedding.weight = nn.Parameter(torch.tensor(embedding_matrix, dtype=torch.float32)) "
   ]
  },
  {
   "cell_type": "code",
   "execution_count": 86,
   "id": "95fb3c38",
   "metadata": {},
   "outputs": [],
   "source": [
    "embeds1 = test_embedding(batch_sample[0])\n",
    "embeds2 = test_embedding(batch_sample[1])"
   ]
  },
  {
   "cell_type": "code",
   "execution_count": 87,
   "id": "df35b0eb",
   "metadata": {},
   "outputs": [
    {
     "data": {
      "text/plain": [
       "(torch.Size([32, 50, 100]), torch.Size([32, 50, 100]))"
      ]
     },
     "execution_count": 87,
     "metadata": {},
     "output_type": "execute_result"
    }
   ],
   "source": [
    "(embeds1.shape, embeds2.shape)"
   ]
  },
  {
   "cell_type": "code",
   "execution_count": 79,
   "id": "847c0dfe",
   "metadata": {},
   "outputs": [],
   "source": [
    "test_lstm1 = nn.LSTM(input_size = 100, hidden_size = hidden_dim, batch_first = True)\n",
    "test_lstm2 = nn.LSTM(input_size = 100, hidden_size = hidden_dim, batch_first = True)"
   ]
  },
  {
   "cell_type": "code",
   "execution_count": 80,
   "id": "e57e306c",
   "metadata": {},
   "outputs": [],
   "source": [
    "lstm_out1, hc1 = test_lstm1(embeds1)"
   ]
  },
  {
   "cell_type": "code",
   "execution_count": 81,
   "id": "2302dbea",
   "metadata": {},
   "outputs": [],
   "source": [
    "lstm_out2, _ = test_lstm2(embeds2)"
   ]
  },
  {
   "cell_type": "code",
   "execution_count": 82,
   "id": "5cd7c646",
   "metadata": {},
   "outputs": [
    {
     "data": {
      "text/plain": [
       "(torch.Size([32, 50, 50]), torch.Size([32, 50, 50]))"
      ]
     },
     "execution_count": 82,
     "metadata": {},
     "output_type": "execute_result"
    }
   ],
   "source": [
    "(lstm_out1.shape, lstm_out2.shape)"
   ]
  },
  {
   "cell_type": "code",
   "execution_count": 83,
   "id": "c7feb59d",
   "metadata": {},
   "outputs": [
    {
     "data": {
      "text/plain": [
       "32"
      ]
     },
     "execution_count": 83,
     "metadata": {},
     "output_type": "execute_result"
    }
   ],
   "source": [
    "lstm_out1.size(0)"
   ]
  },
  {
   "cell_type": "code",
   "execution_count": 84,
   "id": "b15daeed",
   "metadata": {},
   "outputs": [
    {
     "data": {
      "text/plain": [
       "tensor([[[ 1.1695e-02,  2.8581e-02, -5.8257e-02,  ..., -1.0807e-02,\n",
       "           2.4341e-02, -4.1429e-02],\n",
       "         [ 1.8354e-02,  4.3031e-02, -9.1091e-02,  ..., -1.7150e-02,\n",
       "           4.1275e-02, -5.5303e-02],\n",
       "         [ 2.2084e-02,  5.0921e-02, -1.0920e-01,  ..., -2.1384e-02,\n",
       "           5.2224e-02, -6.0224e-02],\n",
       "         ...,\n",
       "         [ 7.5206e-02, -2.6757e-02, -1.7488e-01,  ..., -7.7930e-02,\n",
       "           1.1781e-01, -1.5541e-01],\n",
       "         [ 5.3420e-02, -9.4440e-03, -1.0597e-01,  ..., -5.4733e-02,\n",
       "           2.6130e-03, -1.6026e-01],\n",
       "         [-5.3312e-03,  1.2484e-01, -5.0928e-02,  ..., -9.3307e-03,\n",
       "          -4.3834e-03, -2.1225e-02]],\n",
       "\n",
       "        [[ 1.1695e-02,  2.8581e-02, -5.8257e-02,  ..., -1.0807e-02,\n",
       "           2.4341e-02, -4.1429e-02],\n",
       "         [ 1.8354e-02,  4.3031e-02, -9.1091e-02,  ..., -1.7150e-02,\n",
       "           4.1275e-02, -5.5303e-02],\n",
       "         [ 2.2084e-02,  5.0921e-02, -1.0920e-01,  ..., -2.1384e-02,\n",
       "           5.2224e-02, -6.0224e-02],\n",
       "         ...,\n",
       "         [ 1.5376e-01, -3.7843e-02, -2.2973e-02,  ...,  4.1859e-02,\n",
       "           1.6423e-02, -9.2787e-02],\n",
       "         [-4.9979e-02,  1.9846e-02, -1.0908e-01,  ...,  1.0068e-01,\n",
       "           6.2838e-02, -1.0608e-01],\n",
       "         [-2.1339e-01,  1.1694e-01, -2.3203e-01,  ...,  5.1060e-02,\n",
       "          -1.3561e-01, -1.5135e-02]],\n",
       "\n",
       "        [[ 1.1695e-02,  2.8581e-02, -5.8257e-02,  ..., -1.0807e-02,\n",
       "           2.4341e-02, -4.1429e-02],\n",
       "         [ 1.8354e-02,  4.3031e-02, -9.1091e-02,  ..., -1.7150e-02,\n",
       "           4.1275e-02, -5.5303e-02],\n",
       "         [ 2.2084e-02,  5.0921e-02, -1.0920e-01,  ..., -2.1384e-02,\n",
       "           5.2224e-02, -6.0224e-02],\n",
       "         ...,\n",
       "         [ 1.4197e-01, -1.4391e-01, -1.4332e-01,  ...,  5.2776e-02,\n",
       "          -1.0794e-01, -1.3393e-01],\n",
       "         [ 9.9130e-02, -1.7575e-01, -4.0265e-02,  ...,  1.9380e-01,\n",
       "           7.7581e-03, -2.3756e-01],\n",
       "         [-4.0165e-03, -2.2305e-01, -9.3747e-02,  ...,  2.5463e-01,\n",
       "          -6.3598e-02, -1.9576e-01]],\n",
       "\n",
       "        ...,\n",
       "\n",
       "        [[ 1.1695e-02,  2.8581e-02, -5.8257e-02,  ..., -1.0807e-02,\n",
       "           2.4341e-02, -4.1429e-02],\n",
       "         [ 1.8354e-02,  4.3031e-02, -9.1091e-02,  ..., -1.7150e-02,\n",
       "           4.1275e-02, -5.5303e-02],\n",
       "         [ 2.2084e-02,  5.0921e-02, -1.0920e-01,  ..., -2.1384e-02,\n",
       "           5.2224e-02, -6.0224e-02],\n",
       "         ...,\n",
       "         [ 2.5012e-02,  6.3300e-02, -1.2527e-01,  ..., -3.1847e-02,\n",
       "           6.6984e-02, -6.6135e-02],\n",
       "         [ 8.8334e-02,  3.8877e-02, -1.5823e-01,  ...,  3.4982e-03,\n",
       "           1.1191e-01,  5.2989e-02],\n",
       "         [ 1.9652e-01, -5.5477e-02, -1.4582e-01,  ...,  1.1278e-01,\n",
       "           9.0434e-03, -1.0436e-01]],\n",
       "\n",
       "        [[ 1.1695e-02,  2.8581e-02, -5.8257e-02,  ..., -1.0807e-02,\n",
       "           2.4341e-02, -4.1429e-02],\n",
       "         [ 1.8354e-02,  4.3031e-02, -9.1091e-02,  ..., -1.7150e-02,\n",
       "           4.1275e-02, -5.5303e-02],\n",
       "         [ 2.2084e-02,  5.0921e-02, -1.0920e-01,  ..., -2.1384e-02,\n",
       "           5.2224e-02, -6.0224e-02],\n",
       "         ...,\n",
       "         [ 9.9904e-02, -1.7783e-01, -1.6238e-01,  ..., -1.3985e-01,\n",
       "           6.9871e-02, -1.9255e-01],\n",
       "         [-3.7801e-03, -5.8932e-02, -6.7218e-02,  ...,  1.8658e-02,\n",
       "          -2.6699e-02, -1.4860e-01],\n",
       "         [-4.0214e-02, -5.0752e-02, -2.8016e-02,  ...,  2.5091e-03,\n",
       "          -1.0455e-01, -1.3864e-01]],\n",
       "\n",
       "        [[ 1.1695e-02,  2.8581e-02, -5.8257e-02,  ..., -1.0807e-02,\n",
       "           2.4341e-02, -4.1429e-02],\n",
       "         [ 1.8354e-02,  4.3031e-02, -9.1091e-02,  ..., -1.7150e-02,\n",
       "           4.1275e-02, -5.5303e-02],\n",
       "         [ 2.2084e-02,  5.0921e-02, -1.0920e-01,  ..., -2.1384e-02,\n",
       "           5.2224e-02, -6.0224e-02],\n",
       "         ...,\n",
       "         [ 2.0973e-01,  9.5212e-02, -1.7629e-01,  ...,  6.8968e-02,\n",
       "           9.1535e-02, -5.4943e-02],\n",
       "         [-9.3220e-02,  5.4879e-02, -1.3247e-01,  ...,  3.8189e-05,\n",
       "          -5.3210e-02, -8.6436e-02],\n",
       "         [-1.1861e-01,  4.7569e-02, -2.4192e-01,  ..., -8.8089e-02,\n",
       "           7.9307e-02, -1.6505e-01]]], grad_fn=<TransposeBackward0>)"
      ]
     },
     "execution_count": 84,
     "metadata": {},
     "output_type": "execute_result"
    }
   ],
   "source": [
    "lstm_out2"
   ]
  },
  {
   "cell_type": "markdown",
   "id": "8c4765dd",
   "metadata": {},
   "source": [
    "#### Match layer"
   ]
  },
  {
   "cell_type": "code",
   "execution_count": 90,
   "id": "ce8db26a",
   "metadata": {},
   "outputs": [],
   "source": [
    "lstm_out1_batch1 = lstm_out1[0:1,:,:]"
   ]
  },
  {
   "cell_type": "code",
   "execution_count": 91,
   "id": "1d62875e",
   "metadata": {},
   "outputs": [
    {
     "data": {
      "text/plain": [
       "tensor([[[ 0.0159,  0.0629,  0.0524,  ...,  0.1008, -0.2170, -0.0282],\n",
       "         [-0.0475,  0.1232,  0.0289,  ...,  0.1984, -0.2090, -0.1479],\n",
       "         [-0.0531,  0.1867,  0.0486,  ..., -0.0209, -0.1780, -0.2003],\n",
       "         ...,\n",
       "         [ 0.0247, -0.0087,  0.0237,  ...,  0.0852, -0.0313,  0.0227],\n",
       "         [ 0.0247, -0.0087,  0.0237,  ...,  0.0852, -0.0313,  0.0227],\n",
       "         [ 0.0247, -0.0087,  0.0237,  ...,  0.0852, -0.0313,  0.0227]]],\n",
       "       grad_fn=<SliceBackward>)"
      ]
     },
     "execution_count": 91,
     "metadata": {},
     "output_type": "execute_result"
    }
   ],
   "source": [
    "lstm_out1_batch1"
   ]
  },
  {
   "cell_type": "code",
   "execution_count": 92,
   "id": "c4ef1ec7",
   "metadata": {},
   "outputs": [],
   "source": [
    "lstm_out2_batch1_end = lstm_out2[0:1,-1, :]"
   ]
  },
  {
   "cell_type": "code",
   "execution_count": 93,
   "id": "3d66e72e",
   "metadata": {},
   "outputs": [
    {
     "data": {
      "text/plain": [
       "tensor([[-0.0505,  0.0447,  0.0301, -0.0183,  0.0156, -0.0491,  0.0294, -0.0456,\n",
       "         -0.0847, -0.0942,  0.0158, -0.0474,  0.0219,  0.0586,  0.0160, -0.0663,\n",
       "         -0.0837,  0.0236,  0.0309,  0.0120,  0.0744, -0.0974,  0.0560, -0.0772,\n",
       "         -0.0678,  0.1215,  0.1064, -0.0748, -0.0248,  0.0711, -0.0515, -0.0497,\n",
       "          0.0197, -0.0126, -0.0042, -0.0658, -0.0394,  0.0057,  0.0574, -0.0740,\n",
       "         -0.0131, -0.0185, -0.0333,  0.0159,  0.0171,  0.0015, -0.1250, -0.0598,\n",
       "          0.0842, -0.1179]], grad_fn=<SliceBackward>)"
      ]
     },
     "execution_count": 93,
     "metadata": {},
     "output_type": "execute_result"
    }
   ],
   "source": [
    "lstm_out2_batch1_end"
   ]
  },
  {
   "cell_type": "code",
   "execution_count": 95,
   "id": "40bec3fa",
   "metadata": {},
   "outputs": [
    {
     "data": {
      "text/plain": [
       "tensor([[ 0.0159,  0.0629,  0.0524,  ...,  0.1008, -0.2170, -0.0282],\n",
       "        [-0.0475,  0.1232,  0.0289,  ...,  0.1984, -0.2090, -0.1479],\n",
       "        [-0.0531,  0.1867,  0.0486,  ..., -0.0209, -0.1780, -0.2003],\n",
       "        ...,\n",
       "        [ 0.0247, -0.0087,  0.0237,  ...,  0.0852, -0.0313,  0.0227],\n",
       "        [ 0.0247, -0.0087,  0.0237,  ...,  0.0852, -0.0313,  0.0227],\n",
       "        [ 0.0247, -0.0087,  0.0237,  ...,  0.0852, -0.0313,  0.0227]],\n",
       "       grad_fn=<ViewBackward>)"
      ]
     },
     "execution_count": 95,
     "metadata": {},
     "output_type": "execute_result"
    }
   ],
   "source": [
    "lstm_out1_batch1 = lstm_out1_batch1.view(50, 50)\n",
    "lstm_out1_batch1"
   ]
  },
  {
   "cell_type": "code",
   "execution_count": 97,
   "id": "68311370",
   "metadata": {},
   "outputs": [
    {
     "data": {
      "text/plain": [
       "50"
      ]
     },
     "execution_count": 97,
     "metadata": {},
     "output_type": "execute_result"
    }
   ],
   "source": [
    "lstm_out1_batch1.size(0)"
   ]
  },
  {
   "cell_type": "code",
   "execution_count": null,
   "id": "d339684c",
   "metadata": {},
   "outputs": [],
   "source": []
  },
  {
   "cell_type": "code",
   "execution_count": 90,
   "id": "01ebea79",
   "metadata": {},
   "outputs": [],
   "source": [
    "test_para = nn.Parameter(torch.rand(30, 50))"
   ]
  },
  {
   "cell_type": "code",
   "execution_count": 91,
   "id": "4cf8470b",
   "metadata": {},
   "outputs": [
    {
     "data": {
      "text/plain": [
       "torch.Size([30, 50])"
      ]
     },
     "execution_count": 91,
     "metadata": {},
     "output_type": "execute_result"
    }
   ],
   "source": [
    "test_para.size()"
   ]
  },
  {
   "cell_type": "code",
   "execution_count": 92,
   "id": "d48220c9",
   "metadata": {},
   "outputs": [
    {
     "data": {
      "text/plain": [
       "Parameter containing:\n",
       "tensor([[0.7368, 0.9743, 0.9150,  ..., 0.4761, 0.7038, 0.7414],\n",
       "        [0.6111, 0.2289, 0.7476,  ..., 0.6743, 0.9194, 0.1988],\n",
       "        [0.1597, 0.7428, 0.6512,  ..., 0.3281, 0.3146, 0.8502],\n",
       "        ...,\n",
       "        [0.0898, 0.8254, 0.2690,  ..., 0.8089, 0.3538, 0.1819],\n",
       "        [0.6433, 0.8582, 0.3460,  ..., 0.8198, 0.5527, 0.6052],\n",
       "        [0.0500, 0.1903, 0.7117,  ..., 0.3004, 0.5919, 0.3825]],\n",
       "       requires_grad=True)"
      ]
     },
     "execution_count": 92,
     "metadata": {},
     "output_type": "execute_result"
    }
   ],
   "source": [
    "test_para"
   ]
  },
  {
   "cell_type": "code",
   "execution_count": null,
   "id": "8fb19d25",
   "metadata": {},
   "outputs": [],
   "source": []
  },
  {
   "cell_type": "code",
   "execution_count": 108,
   "id": "dc262ea7",
   "metadata": {},
   "outputs": [
    {
     "name": "stdout",
     "output_type": "stream",
     "text": [
      "tensor([ 0.0812,  0.1135,  0.0650,  0.0905,  0.1343, -0.0729,  0.2088, -0.1368,\n",
      "         0.0516, -0.1185])\n"
     ]
    }
   ],
   "source": [
    "input1 = torch.randn(10, 128)\n",
    "input2 = torch.randn(10, 128)\n",
    "output = F.cosine_similarity(input1, input2)\n",
    "print(output)"
   ]
  },
  {
   "cell_type": "code",
   "execution_count": 85,
   "id": "612ccf26",
   "metadata": {},
   "outputs": [],
   "source": [
    "input1 = torch.randn(5, 128)\n",
    "input2 = torch.randn(5, 128)\n",
    "test_cos = nn.CosineSimilarity(dim=1)\n",
    "output = test_cos(input1, input2)"
   ]
  },
  {
   "cell_type": "code",
   "execution_count": 86,
   "id": "f12c517c",
   "metadata": {},
   "outputs": [
    {
     "data": {
      "text/plain": [
       "tensor([-0.0089, -0.1298, -0.0036, -0.0451,  0.1058])"
      ]
     },
     "execution_count": 86,
     "metadata": {},
     "output_type": "execute_result"
    }
   ],
   "source": [
    "output"
   ]
  },
  {
   "cell_type": "code",
   "execution_count": 108,
   "id": "3e4b7e1d",
   "metadata": {},
   "outputs": [],
   "source": [
    "seq = 0\n",
    "batch1_t = lstm_out1_batch1[seq,:]\n",
    "batch2_t = lstm_out2_batch1_end[0,:]"
   ]
  },
  {
   "cell_type": "code",
   "execution_count": 109,
   "id": "59e10030",
   "metadata": {},
   "outputs": [
    {
     "data": {
      "text/plain": [
       "(tensor([ 0.0159,  0.0629,  0.0524, -0.0969,  0.1361, -0.0815,  0.1097, -0.1691,\n",
       "          0.1185,  0.1331,  0.0373,  0.0901, -0.0055,  0.0335,  0.0008,  0.0258,\n",
       "          0.0282,  0.0816,  0.2127,  0.0889, -0.1542, -0.0449,  0.2488,  0.1001,\n",
       "         -0.1428, -0.0919,  0.1175,  0.0391,  0.1426, -0.0382, -0.0996,  0.1259,\n",
       "         -0.0713,  0.0221, -0.1125, -0.0523, -0.1694, -0.0932,  0.1069, -0.1702,\n",
       "          0.0900,  0.1949, -0.0317, -0.0439,  0.0504,  0.0022, -0.0338,  0.1008,\n",
       "         -0.2170, -0.0282], grad_fn=<SliceBackward>),\n",
       " tensor([-0.0505,  0.0447,  0.0301, -0.0183,  0.0156, -0.0491,  0.0294, -0.0456,\n",
       "         -0.0847, -0.0942,  0.0158, -0.0474,  0.0219,  0.0586,  0.0160, -0.0663,\n",
       "         -0.0837,  0.0236,  0.0309,  0.0120,  0.0744, -0.0974,  0.0560, -0.0772,\n",
       "         -0.0678,  0.1215,  0.1064, -0.0748, -0.0248,  0.0711, -0.0515, -0.0497,\n",
       "          0.0197, -0.0126, -0.0042, -0.0658, -0.0394,  0.0057,  0.0574, -0.0740,\n",
       "         -0.0131, -0.0185, -0.0333,  0.0159,  0.0171,  0.0015, -0.1250, -0.0598,\n",
       "          0.0842, -0.1179], grad_fn=<SliceBackward>))"
      ]
     },
     "execution_count": 109,
     "metadata": {},
     "output_type": "execute_result"
    }
   ],
   "source": [
    "(batch1_t, batch2_t)"
   ]
  },
  {
   "cell_type": "code",
   "execution_count": 110,
   "id": "0673c173",
   "metadata": {},
   "outputs": [],
   "source": [
    "mod_batch1_t = torch.mul(test_para, batch1_t)\n",
    "mod_batch2_t = torch.mul(test_para, batch2_t)"
   ]
  },
  {
   "cell_type": "code",
   "execution_count": 111,
   "id": "95f6de18",
   "metadata": {},
   "outputs": [
    {
     "data": {
      "text/plain": [
       "(tensor([[ 0.0094,  0.0082,  0.0403,  ...,  0.0994, -0.0723, -0.0077],\n",
       "         [ 0.0059,  0.0449,  0.0193,  ...,  0.0750, -0.1023, -0.0256],\n",
       "         [ 0.0129,  0.0460,  0.0019,  ...,  0.0398, -0.1424, -0.0098],\n",
       "         ...,\n",
       "         [ 0.0134,  0.0622,  0.0284,  ...,  0.0262, -0.0581, -0.0111],\n",
       "         [ 0.0040,  0.0247,  0.0087,  ...,  0.0547, -0.1446, -0.0198],\n",
       "         [ 0.0065,  0.0379,  0.0398,  ...,  0.0770, -0.0224, -0.0133]],\n",
       "        grad_fn=<MulBackward0>),\n",
       " tensor([[-0.0297,  0.0058,  0.0231,  ..., -0.0589,  0.0281, -0.0320],\n",
       "         [-0.0189,  0.0319,  0.0111,  ..., -0.0445,  0.0397, -0.1069],\n",
       "         [-0.0410,  0.0327,  0.0011,  ..., -0.0236,  0.0553, -0.0408],\n",
       "         ...,\n",
       "         [-0.0427,  0.0442,  0.0163,  ..., -0.0155,  0.0225, -0.0461],\n",
       "         [-0.0128,  0.0175,  0.0050,  ..., -0.0324,  0.0561, -0.0828],\n",
       "         [-0.0207,  0.0269,  0.0229,  ..., -0.0456,  0.0087, -0.0554]],\n",
       "        grad_fn=<MulBackward0>))"
      ]
     },
     "execution_count": 111,
     "metadata": {},
     "output_type": "execute_result"
    }
   ],
   "source": [
    "(mod_batch1_t, mod_batch2_t)"
   ]
  },
  {
   "cell_type": "code",
   "execution_count": 112,
   "id": "9f76c2cf",
   "metadata": {},
   "outputs": [],
   "source": [
    "match_out_t=test_cos(mod_batch1_t, mod_batch2_t)"
   ]
  },
  {
   "cell_type": "code",
   "execution_count": 123,
   "id": "f9151d91",
   "metadata": {},
   "outputs": [
    {
     "data": {
      "text/plain": [
       "tensor([ 0.0331, -0.0832,  0.2572,  0.1136,  0.0721,  0.2472,  0.3161,  0.1267,\n",
       "         0.1933,  0.0192,  0.3663,  0.0510, -0.0863,  0.2568,  0.2178,  0.1372,\n",
       "        -0.0304, -0.1672,  0.0943,  0.0518,  0.0653,  0.0727, -0.0527, -0.0521,\n",
       "        -0.1651, -0.1871,  0.0469,  0.2182,  0.0892, -0.0248],\n",
       "       grad_fn=<DivBackward0>)"
      ]
     },
     "execution_count": 123,
     "metadata": {},
     "output_type": "execute_result"
    }
   ],
   "source": [
    "match_out_t"
   ]
  },
  {
   "cell_type": "code",
   "execution_count": 87,
   "id": "221057b7",
   "metadata": {},
   "outputs": [
    {
     "ename": "NameError",
     "evalue": "name 'lstm_out1_batch1' is not defined",
     "output_type": "error",
     "traceback": [
      "\u001b[1;31m---------------------------------------------------------------------------\u001b[0m",
      "\u001b[1;31mNameError\u001b[0m                                 Traceback (most recent call last)",
      "Input \u001b[1;32mIn [87]\u001b[0m, in \u001b[0;36m<cell line: 2>\u001b[1;34m()\u001b[0m\n\u001b[0;32m      1\u001b[0m match_out_lst \u001b[38;5;241m=\u001b[39m []\n\u001b[1;32m----> 2\u001b[0m \u001b[38;5;28;01mfor\u001b[39;00m seq \u001b[38;5;129;01min\u001b[39;00m \u001b[38;5;28mrange\u001b[39m(\u001b[43mlstm_out1_batch1\u001b[49m\u001b[38;5;241m.\u001b[39msize(\u001b[38;5;241m0\u001b[39m)):\n\u001b[0;32m      3\u001b[0m     batch1_t \u001b[38;5;241m=\u001b[39m lstm_out1_batch1[seq,:]\n\u001b[0;32m      4\u001b[0m     batch2_t \u001b[38;5;241m=\u001b[39m lstm_out2_batch1_end[\u001b[38;5;241m0\u001b[39m,:]\n",
      "\u001b[1;31mNameError\u001b[0m: name 'lstm_out1_batch1' is not defined"
     ]
    }
   ],
   "source": [
    "match_out_lst = []\n",
    "for seq in range(lstm_out1_batch1.size(0)):\n",
    "    batch1_t = lstm_out1_batch1[seq,:]\n",
    "    batch2_t = lstm_out2_batch1_end[0,:]\n",
    "    mod_batch1_t = torch.mul(test_para, batch1_t)\n",
    "    mod_batch2_t = torch.mul(test_para, batch2_t)\n",
    "    match_out_t = test_cos(mod_batch1_t, mod_batch2_t)\n",
    "    match_out_lst.append(match_out_t)\n",
    "match_out = torch.stack(match_out_lst)"
   ]
  },
  {
   "cell_type": "code",
   "execution_count": 122,
   "id": "51ab8d37",
   "metadata": {},
   "outputs": [
    {
     "data": {
      "text/plain": [
       "tensor([[ 0.1138, -0.0389,  0.1248,  ...,  0.0591,  0.1998, -0.0669],\n",
       "        [ 0.1146,  0.0374,  0.0978,  ...,  0.0980,  0.2666,  0.1044],\n",
       "        [ 0.1106,  0.0962,  0.0490,  ..., -0.0353,  0.2991,  0.0340],\n",
       "        ...,\n",
       "        [ 0.0331, -0.0832,  0.2572,  ...,  0.2182,  0.0892, -0.0248],\n",
       "        [ 0.0331, -0.0832,  0.2572,  ...,  0.2182,  0.0892, -0.0248],\n",
       "        [ 0.0331, -0.0832,  0.2572,  ...,  0.2182,  0.0892, -0.0248]],\n",
       "       grad_fn=<StackBackward>)"
      ]
     },
     "execution_count": 122,
     "metadata": {},
     "output_type": "execute_result"
    }
   ],
   "source": [
    "match_out"
   ]
  },
  {
   "cell_type": "code",
   "execution_count": 124,
   "id": "ff3b16df",
   "metadata": {},
   "outputs": [
    {
     "data": {
      "text/plain": [
       "torch.Size([50, 30])"
      ]
     },
     "execution_count": 124,
     "metadata": {},
     "output_type": "execute_result"
    }
   ],
   "source": [
    "match_out.size()"
   ]
  },
  {
   "cell_type": "code",
   "execution_count": 125,
   "id": "c9631330",
   "metadata": {},
   "outputs": [],
   "source": [
    "T1 = torch.Tensor([[3,2],[1,2]])\n",
    "\n",
    "# Create a 1-D tensor\n",
    "T2 = torch.Tensor([[3,4],[10, 8]])"
   ]
  },
  {
   "cell_type": "code",
   "execution_count": 126,
   "id": "2155142e",
   "metadata": {},
   "outputs": [
    {
     "data": {
      "text/plain": [
       "tensor([[[ 3.,  2.],\n",
       "         [ 1.,  2.]],\n",
       "\n",
       "        [[ 3.,  4.],\n",
       "         [10.,  8.]]])"
      ]
     },
     "execution_count": 126,
     "metadata": {},
     "output_type": "execute_result"
    }
   ],
   "source": [
    "torch.stack([T1, T2], dim = 0 )"
   ]
  },
  {
   "cell_type": "code",
   "execution_count": 113,
   "id": "b1c0c6f3",
   "metadata": {},
   "outputs": [
    {
     "data": {
      "text/plain": [
       "tensor([[1, 2, 3],\n",
       "        [1, 2, 3],\n",
       "        [1, 2, 3],\n",
       "        [1, 2, 3]])"
      ]
     },
     "execution_count": 113,
     "metadata": {},
     "output_type": "execute_result"
    }
   ],
   "source": [
    "test_repeat = torch.tensor([1, 2, 3])\n",
    "test_repeat.repeat(4, 1)\n",
    "#test_repeat"
   ]
  },
  {
   "cell_type": "code",
   "execution_count": null,
   "id": "c07f91d7",
   "metadata": {},
   "outputs": [],
   "source": []
  },
  {
   "cell_type": "code",
   "execution_count": 93,
   "id": "ae00e0cd",
   "metadata": {},
   "outputs": [],
   "source": [
    "test_cos = nn.CosineSimilarity(dim=1)"
   ]
  },
  {
   "cell_type": "code",
   "execution_count": 94,
   "id": "d95a7a25",
   "metadata": {},
   "outputs": [],
   "source": [
    "def match_cal(lstm_out1, lstm_out2, test_para):\n",
    "    match_out_all = []\n",
    "    for b in range(lstm_out1.size(0)):\n",
    "        match_out_lst = []\n",
    "        lstm_out1_batch1 = lstm_out1[b,:,:]\n",
    "        lstm_out2_batch1_end = lstm_out2[b, -1, :]\n",
    "        for seq in range(lstm_out1_batch1.size(0)):\n",
    "            batch1_t = lstm_out1_batch1[seq,:]\n",
    "            batch2_t = lstm_out2_batch1_end\n",
    "            mod_batch1_t = torch.mul(test_para, batch1_t)\n",
    "            mod_batch2_t = torch.mul(test_para, batch2_t)\n",
    "            match_out_t = test_cos(mod_batch1_t, mod_batch2_t)\n",
    "            match_out_lst.append(match_out_t)\n",
    "        match_out = torch.stack(match_out_lst)\n",
    "        match_out_all.append(match_out)\n",
    "    return torch.stack(match_out_all)"
   ]
  },
  {
   "cell_type": "code",
   "execution_count": 95,
   "id": "fb0d08e6",
   "metadata": {},
   "outputs": [],
   "source": [
    "match_1 = match_cal(lstm_out1, lstm_out2, test_para)"
   ]
  },
  {
   "cell_type": "code",
   "execution_count": 96,
   "id": "c46c39a9",
   "metadata": {},
   "outputs": [
    {
     "data": {
      "text/plain": [
       "tensor([[[-2.0313e-01, -3.6478e-02, -1.5178e-01,  ..., -3.2423e-03,\n",
       "          -5.7971e-02, -1.9816e-01],\n",
       "         [-2.3384e-01, -7.8140e-02, -1.8306e-01,  ..., -1.4328e-02,\n",
       "          -7.3213e-02, -2.1912e-01],\n",
       "         [-2.5710e-01, -1.1298e-01, -2.0583e-01,  ..., -2.7429e-02,\n",
       "          -8.5672e-02, -2.4001e-01],\n",
       "         ...,\n",
       "         [ 8.5128e-02,  1.5229e-01,  1.1737e-01,  ..., -1.0582e-01,\n",
       "           8.5553e-04,  1.0023e-01],\n",
       "         [ 1.6592e-01,  1.2343e-01,  2.7464e-01,  ...,  9.0229e-02,\n",
       "           1.2870e-01,  1.2398e-01],\n",
       "         [-7.6293e-02,  3.4264e-01,  1.1801e-01,  ...,  1.4987e-01,\n",
       "          -7.4881e-02, -3.8145e-02]],\n",
       "\n",
       "        [[-7.7823e-03,  2.5012e-01,  1.1933e-01,  ...,  2.2397e-01,\n",
       "           9.2251e-02, -1.4692e-01],\n",
       "         [-3.1076e-02,  2.2356e-01,  1.0798e-01,  ...,  2.2122e-01,\n",
       "           7.4549e-02, -1.6022e-01],\n",
       "         [-5.1704e-02,  1.9971e-01,  9.9267e-02,  ...,  2.1516e-01,\n",
       "           5.8214e-02, -1.7283e-01],\n",
       "         ...,\n",
       "         [ 5.0262e-03,  8.9607e-02,  4.1153e-02,  ..., -8.6425e-02,\n",
       "          -1.2971e-02, -1.2676e-01],\n",
       "         [-1.8592e-01, -3.7415e-02, -2.1510e-01,  ..., -1.4463e-01,\n",
       "          -1.7280e-01, -2.7051e-01],\n",
       "         [-1.4463e-01,  9.4119e-02, -1.5890e-01,  ..., -9.2421e-02,\n",
       "          -1.7464e-01, -2.6464e-01]],\n",
       "\n",
       "        [[-4.8038e-02,  1.0611e-01,  8.9586e-02,  ...,  1.7125e-01,\n",
       "           1.0954e-01, -8.0437e-02],\n",
       "         [-7.5396e-02,  5.6234e-02,  6.0961e-02,  ...,  1.5712e-01,\n",
       "           1.1181e-01, -1.0362e-01],\n",
       "         [-9.6241e-02,  1.5403e-02,  3.7751e-02,  ...,  1.4219e-01,\n",
       "           1.1225e-01, -1.2527e-01],\n",
       "         ...,\n",
       "         [-2.1816e-01, -3.2598e-02, -2.5127e-01,  ..., -2.8131e-01,\n",
       "          -1.4759e-03, -2.3254e-01],\n",
       "         [-2.5932e-01,  7.0191e-02, -2.0344e-01,  ..., -1.5248e-01,\n",
       "          -9.7362e-02, -1.8150e-01],\n",
       "         [-1.9643e-01,  4.0177e-02, -1.8881e-01,  ..., -1.0242e-01,\n",
       "          -1.7866e-01, -2.7815e-01]],\n",
       "\n",
       "        ...,\n",
       "\n",
       "        [[-7.7309e-02,  6.0861e-02, -1.6447e-01,  ...,  1.4906e-01,\n",
       "          -6.4879e-03, -3.1497e-01],\n",
       "         [-9.4143e-02,  2.6853e-02, -1.7853e-01,  ...,  1.4735e-01,\n",
       "          -9.9568e-03, -3.3605e-01],\n",
       "         [-1.0406e-01,  1.5191e-05, -1.8672e-01,  ...,  1.4277e-01,\n",
       "          -1.2423e-02, -3.5219e-01],\n",
       "         ...,\n",
       "         [-1.2422e-01, -5.7230e-02, -1.9437e-01,  ...,  1.2055e-01,\n",
       "          -2.1069e-02, -3.9521e-01],\n",
       "         [ 2.3663e-01,  2.6662e-02,  1.7322e-01,  ...,  2.1158e-01,\n",
       "           9.0042e-02,  2.4244e-01],\n",
       "         [-2.2174e-01,  5.6278e-02, -2.1126e-01,  ..., -8.5886e-02,\n",
       "          -2.2957e-01, -2.8746e-01]],\n",
       "\n",
       "        [[ 1.1443e-02,  1.8999e-01,  7.9861e-02,  ...,  1.9854e-01,\n",
       "           2.0572e-01, -2.5924e-02],\n",
       "         [ 2.6334e-02,  1.8749e-01,  8.0741e-02,  ...,  2.0178e-01,\n",
       "           1.9847e-01, -3.3772e-02],\n",
       "         [ 3.8248e-02,  1.8443e-01,  8.1620e-02,  ...,  1.9830e-01,\n",
       "           1.8982e-01, -4.1647e-02],\n",
       "         ...,\n",
       "         [-2.7639e-01, -4.8116e-01, -1.5496e-01,  ..., -2.5986e-01,\n",
       "          -1.7522e-02, -1.0489e-01],\n",
       "         [-4.8354e-01, -4.4272e-01, -2.9003e-01,  ..., -1.5514e-01,\n",
       "          -1.8144e-01, -1.6916e-01],\n",
       "         [-2.8614e-01, -1.2560e-01, -5.1910e-02,  ...,  1.1389e-02,\n",
       "          -1.0393e-02,  1.3938e-01]],\n",
       "\n",
       "        [[-2.1114e-01,  1.6120e-02, -4.0823e-01,  ...,  1.0286e-01,\n",
       "          -1.5649e-01, -3.4424e-01],\n",
       "         [-2.3076e-01,  2.7448e-02, -4.1420e-01,  ...,  1.3956e-01,\n",
       "          -1.4800e-01, -3.4733e-01],\n",
       "         [-2.4314e-01,  3.5790e-02, -4.1336e-01,  ...,  1.6419e-01,\n",
       "          -1.3740e-01, -3.4427e-01],\n",
       "         ...,\n",
       "         [-1.1492e-01,  1.1978e-02, -2.4254e-01,  ...,  2.1431e-01,\n",
       "           1.9257e-01, -1.0041e-01],\n",
       "         [ 5.4549e-02, -1.5311e-02, -1.6238e-01,  ...,  2.3734e-01,\n",
       "           2.3283e-01, -7.5855e-02],\n",
       "         [-4.0479e-01, -2.6140e-01, -4.3032e-01,  ...,  2.6744e-02,\n",
       "          -1.4010e-01, -4.1772e-01]]], grad_fn=<StackBackward>)"
      ]
     },
     "execution_count": 96,
     "metadata": {},
     "output_type": "execute_result"
    }
   ],
   "source": [
    "match_1"
   ]
  },
  {
   "cell_type": "code",
   "execution_count": 97,
   "id": "31063266",
   "metadata": {},
   "outputs": [],
   "source": [
    "match_2 = match_cal(lstm_out2, lstm_out1, test_para)"
   ]
  },
  {
   "cell_type": "code",
   "execution_count": 98,
   "id": "9d2f6863",
   "metadata": {},
   "outputs": [
    {
     "data": {
      "text/plain": [
       "torch.Size([32, 50, 30])"
      ]
     },
     "execution_count": 98,
     "metadata": {},
     "output_type": "execute_result"
    }
   ],
   "source": [
    "match_2.size()"
   ]
  },
  {
   "cell_type": "code",
   "execution_count": null,
   "id": "a6522d78",
   "metadata": {},
   "outputs": [],
   "source": []
  },
  {
   "cell_type": "markdown",
   "id": "a0c47928",
   "metadata": {},
   "source": [
    "New lstm"
   ]
  },
  {
   "cell_type": "code",
   "execution_count": 99,
   "id": "671671f9",
   "metadata": {},
   "outputs": [],
   "source": [
    "test_lstm_new1 = nn.LSTM(input_size = 30, hidden_size = hidden_dim2, batch_first=True)\n",
    "test_lstm_new2 = nn.LSTM(input_size = 30, hidden_size = hidden_dim2, batch_first=True)"
   ]
  },
  {
   "cell_type": "code",
   "execution_count": 100,
   "id": "8ee6dc74",
   "metadata": {},
   "outputs": [],
   "source": [
    "_,(lstm_new_out1,_) = test_lstm_new1(match_1)"
   ]
  },
  {
   "cell_type": "code",
   "execution_count": 101,
   "id": "09edffdc",
   "metadata": {},
   "outputs": [],
   "source": [
    "lstm_new_out1 = lstm_new_out1.view(lstm_new_out1.size(1), lstm_new_out1.size(2))"
   ]
  },
  {
   "cell_type": "code",
   "execution_count": 102,
   "id": "1b0fd953",
   "metadata": {},
   "outputs": [
    {
     "data": {
      "text/plain": [
       "torch.Size([32, 10])"
      ]
     },
     "execution_count": 102,
     "metadata": {},
     "output_type": "execute_result"
    }
   ],
   "source": [
    "lstm_new_out1.size()"
   ]
  },
  {
   "cell_type": "code",
   "execution_count": 106,
   "id": "bb1253cf",
   "metadata": {},
   "outputs": [
    {
     "data": {
      "text/plain": [
       "tensor([[ 8.0518e-02, -1.4444e-01,  5.3251e-02, -1.4054e-01, -3.4238e-01,\n",
       "         -1.1486e-01,  1.7757e-02,  1.6089e-01,  1.1305e-01,  2.0600e-01],\n",
       "        [ 4.3876e-02, -2.4356e-01, -3.6768e-02, -1.6803e-01, -4.1378e-01,\n",
       "         -1.0991e-01, -9.0277e-02,  2.0905e-01,  1.0021e-01,  2.7105e-01],\n",
       "        [ 6.1471e-02, -1.9524e-01, -3.5281e-02, -2.0903e-01, -4.9177e-01,\n",
       "         -1.3667e-01, -3.9006e-02,  1.3681e-01,  9.4053e-02,  2.9455e-01],\n",
       "        [ 1.0323e-01, -2.0297e-01,  1.6410e-02, -1.5654e-01, -4.5607e-01,\n",
       "         -9.2152e-02, -1.1012e-01,  1.2496e-01, -4.2502e-02,  9.5890e-02],\n",
       "        [ 1.9453e-02, -3.0922e-01,  1.4043e-02, -3.3292e-01, -4.7440e-01,\n",
       "         -1.0758e-01, -3.2999e-01,  1.1935e-02, -2.6625e-02,  2.0814e-01],\n",
       "        [ 5.0278e-02, -2.1636e-01,  9.4281e-03, -1.0958e-01, -2.8043e-01,\n",
       "         -1.3295e-01, -4.4020e-02,  1.7139e-01,  6.0562e-02,  2.0760e-01],\n",
       "        [ 6.4749e-02, -2.5311e-01,  5.3786e-03, -2.6483e-01, -4.3790e-01,\n",
       "         -1.3391e-01, -2.9853e-01,  9.0163e-02,  9.7150e-03,  2.2334e-01],\n",
       "        [ 4.8834e-02, -2.2987e-01, -5.7188e-03, -1.8766e-01, -3.5058e-01,\n",
       "         -9.5081e-02, -2.3479e-01,  9.4701e-02,  8.9015e-02,  1.8620e-01],\n",
       "        [ 2.5093e-02, -2.4504e-01, -2.6990e-02, -3.3588e-01, -4.6090e-01,\n",
       "         -5.8513e-02, -2.2514e-01,  3.9077e-02, -4.3107e-02,  2.4439e-01],\n",
       "        [ 5.1417e-02, -2.0918e-01,  7.3012e-03, -3.3457e-01, -4.8713e-01,\n",
       "         -1.1184e-01, -2.2982e-01,  6.0269e-02, -1.5615e-01,  2.0088e-01],\n",
       "        [ 8.4606e-02, -2.2724e-01,  1.6147e-02, -6.5321e-02, -1.5865e-01,\n",
       "         -1.6667e-01, -2.0438e-02,  1.5336e-01,  1.9751e-01,  1.6620e-01],\n",
       "        [ 2.6045e-02, -2.6999e-01, -2.8107e-02, -4.0944e-01, -4.6909e-01,\n",
       "         -6.6023e-02, -3.8520e-01, -6.9204e-02, -7.8402e-02,  3.0321e-01],\n",
       "        [ 9.9181e-02, -1.9592e-01, -6.1035e-02,  5.2676e-02,  3.1896e-01,\n",
       "         -1.1931e-01,  8.9159e-02,  2.2424e-01,  3.1737e-01,  1.8559e-01],\n",
       "        [ 1.1441e-01, -1.5765e-01, -5.8285e-03, -6.6154e-02,  9.4886e-02,\n",
       "         -1.4811e-01,  2.6628e-02,  1.6615e-01,  1.9841e-01,  1.9922e-01],\n",
       "        [ 8.0979e-02, -2.2237e-01,  1.0750e-02, -9.2386e-02, -2.4768e-01,\n",
       "         -1.1544e-01, -1.7769e-02,  1.4945e-01,  7.4809e-02,  1.7222e-01],\n",
       "        [ 3.1105e-02, -1.9729e-01, -2.6013e-02, -3.1880e-01, -4.7191e-01,\n",
       "         -1.0182e-01, -2.2157e-01,  1.1613e-01, -6.9852e-02,  2.3186e-01],\n",
       "        [ 6.5159e-02, -2.3286e-01,  2.2017e-02, -8.1892e-02, -1.6809e-01,\n",
       "         -1.3907e-01, -7.6208e-02,  1.6545e-01,  1.9030e-01,  2.6497e-01],\n",
       "        [-1.9558e-02, -3.0574e-01, -1.9206e-02, -1.7043e-01, -3.9328e-01,\n",
       "         -6.1393e-02, -1.0100e-01,  1.3007e-01, -1.0410e-03,  2.2230e-01],\n",
       "        [ 6.6699e-02, -2.0406e-01, -2.9432e-03, -1.9540e-01, -3.7849e-01,\n",
       "         -1.1455e-01, -1.3522e-01,  1.5929e-01,  8.3038e-02,  2.5744e-01],\n",
       "        [ 1.0985e-01, -1.9794e-01,  3.0294e-02, -1.1807e-01, -2.5566e-01,\n",
       "         -1.5352e-01, -7.7153e-02,  1.6301e-01,  1.4054e-01,  1.7266e-01],\n",
       "        [ 5.9160e-03, -2.5955e-01, -2.6937e-02, -2.7066e-01, -4.9262e-01,\n",
       "         -7.1906e-02, -1.3071e-01,  8.1879e-02,  2.3754e-02,  3.0921e-01],\n",
       "        [ 6.6105e-02, -2.0657e-01, -4.0213e-05, -1.1082e-01, -1.9771e-01,\n",
       "         -1.0125e-01,  2.6375e-02,  1.4899e-01,  1.5370e-01,  1.8721e-01],\n",
       "        [ 7.8492e-02, -1.9935e-01, -8.5742e-03, -3.3263e-01, -5.0565e-01,\n",
       "         -8.5837e-02, -2.4913e-01,  5.3500e-02, -4.0964e-03,  3.0624e-01],\n",
       "        [ 3.1638e-02, -3.1015e-01, -8.5260e-02, -1.1924e-01, -1.9377e-01,\n",
       "         -4.4533e-02, -2.2181e-01,  1.4528e-01,  1.9067e-01,  8.3040e-02],\n",
       "        [ 6.4022e-02, -1.8249e-01,  5.4680e-02, -1.6688e-01, -4.3951e-01,\n",
       "         -1.0559e-01, -4.3663e-02,  1.3115e-01,  4.1611e-02,  2.8986e-01],\n",
       "        [ 5.1210e-02, -2.7377e-01, -1.5255e-02, -1.0444e-01, -3.5006e-01,\n",
       "         -6.7268e-02, -1.2142e-01,  1.0504e-01,  8.7599e-02,  1.8696e-01],\n",
       "        [ 1.7702e-02, -1.7239e-01, -1.7269e-02, -2.6221e-01, -5.4618e-01,\n",
       "         -1.3376e-01, -9.2828e-02,  1.4836e-01, -4.2517e-02,  3.0134e-01],\n",
       "        [ 7.1106e-02, -2.2576e-01,  3.3111e-02, -2.2138e-01, -4.6683e-01,\n",
       "         -1.1667e-01, -1.3986e-01,  8.7293e-02,  3.7260e-02,  2.5530e-01],\n",
       "        [ 4.5777e-02, -2.3825e-01,  5.4170e-02, -2.1719e-01, -4.3591e-01,\n",
       "         -1.4826e-01, -2.1273e-01,  8.1392e-02, -1.9217e-02,  2.2816e-01],\n",
       "        [ 7.6484e-02, -2.4998e-01,  7.4081e-03, -1.2140e-01, -3.3765e-01,\n",
       "         -1.2135e-01, -1.4697e-01,  6.5400e-02,  4.9052e-02,  1.0440e-01],\n",
       "        [ 5.4962e-02, -1.8651e-01,  2.9752e-02, -3.1662e-01, -4.6328e-01,\n",
       "         -8.6356e-02, -2.9521e-01,  6.8549e-02, -1.2499e-01,  1.2715e-01],\n",
       "        [ 6.1122e-02, -2.3959e-01, -6.1846e-02, -2.6729e-01, -4.0255e-01,\n",
       "         -9.7207e-02, -2.1813e-01,  1.6225e-01,  1.2051e-02,  1.3349e-01]],\n",
       "       grad_fn=<ViewBackward>)"
      ]
     },
     "execution_count": 106,
     "metadata": {},
     "output_type": "execute_result"
    }
   ],
   "source": [
    "lstm_new_out1"
   ]
  },
  {
   "cell_type": "code",
   "execution_count": 103,
   "id": "3b187136",
   "metadata": {},
   "outputs": [],
   "source": [
    "_,(lstm_new_out2,_) = test_lstm_new2(match_2)"
   ]
  },
  {
   "cell_type": "code",
   "execution_count": 104,
   "id": "f55a73cc",
   "metadata": {},
   "outputs": [],
   "source": [
    "lstm_new_out2 = lstm_new_out2.view(lstm_new_out2.size(1), lstm_new_out2.size(2))"
   ]
  },
  {
   "cell_type": "code",
   "execution_count": 105,
   "id": "9a45b5e8",
   "metadata": {},
   "outputs": [
    {
     "data": {
      "text/plain": [
       "torch.Size([32, 10])"
      ]
     },
     "execution_count": 105,
     "metadata": {},
     "output_type": "execute_result"
    }
   ],
   "source": [
    "lstm_new_out2.size()"
   ]
  },
  {
   "cell_type": "markdown",
   "id": "d5dabb2b",
   "metadata": {},
   "source": [
    "Concat"
   ]
  },
  {
   "cell_type": "code",
   "execution_count": 108,
   "id": "70ff2012",
   "metadata": {},
   "outputs": [],
   "source": [
    "concat_out = torch.cat((lstm_new_out1, lstm_new_out2), dim = 1)"
   ]
  },
  {
   "cell_type": "code",
   "execution_count": 109,
   "id": "581b22ac",
   "metadata": {},
   "outputs": [
    {
     "data": {
      "text/plain": [
       "torch.Size([32, 20])"
      ]
     },
     "execution_count": 109,
     "metadata": {},
     "output_type": "execute_result"
    }
   ],
   "source": [
    "concat_out.size()"
   ]
  },
  {
   "cell_type": "code",
   "execution_count": 110,
   "id": "8df60b49",
   "metadata": {},
   "outputs": [],
   "source": [
    "test_linear = nn.Linear(2*hidden_dim2, 2)"
   ]
  },
  {
   "cell_type": "code",
   "execution_count": 111,
   "id": "66b34de2",
   "metadata": {},
   "outputs": [],
   "source": [
    "final_result = test_linear(concat_out)"
   ]
  },
  {
   "cell_type": "code",
   "execution_count": 112,
   "id": "72dd4abb",
   "metadata": {},
   "outputs": [
    {
     "data": {
      "text/plain": [
       "tensor([[-0.1265, -0.1354],\n",
       "        [-0.1529, -0.1801],\n",
       "        [-0.1598, -0.1770],\n",
       "        [-0.1626, -0.1419],\n",
       "        [-0.2798, -0.2700],\n",
       "        [-0.1413, -0.1438],\n",
       "        [-0.2489, -0.2500],\n",
       "        [-0.1943, -0.2145],\n",
       "        [-0.2543, -0.2329],\n",
       "        [-0.2819, -0.2134],\n",
       "        [-0.0779, -0.1065],\n",
       "        [-0.3218, -0.2998],\n",
       "        [-0.0190, -0.0378],\n",
       "        [-0.0767, -0.0699],\n",
       "        [-0.1187, -0.1352],\n",
       "        [-0.2468, -0.2202],\n",
       "        [-0.1324, -0.1801],\n",
       "        [-0.1908, -0.1914],\n",
       "        [-0.1820, -0.1946],\n",
       "        [-0.1330, -0.1527],\n",
       "        [-0.2085, -0.2137],\n",
       "        [-0.1024, -0.0977],\n",
       "        [-0.2568, -0.2194],\n",
       "        [-0.1705, -0.1670],\n",
       "        [-0.1559, -0.1977],\n",
       "        [-0.1661, -0.1780],\n",
       "        [-0.2008, -0.1846],\n",
       "        [-0.1797, -0.2089],\n",
       "        [-0.2185, -0.2400],\n",
       "        [-0.1688, -0.1802],\n",
       "        [-0.2803, -0.2481],\n",
       "        [-0.2228, -0.1721]], grad_fn=<AddmmBackward>)"
      ]
     },
     "execution_count": 112,
     "metadata": {},
     "output_type": "execute_result"
    }
   ],
   "source": [
    "final_result"
   ]
  },
  {
   "cell_type": "code",
   "execution_count": 119,
   "id": "21924a3c",
   "metadata": {},
   "outputs": [],
   "source": [
    "tag_scores = F.softmax(final_result, dim = 1)"
   ]
  },
  {
   "cell_type": "code",
   "execution_count": 120,
   "id": "a43508b5",
   "metadata": {},
   "outputs": [
    {
     "data": {
      "text/plain": [
       "tensor([[0.5022, 0.4978],\n",
       "        [0.5068, 0.4932],\n",
       "        [0.5043, 0.4957],\n",
       "        [0.4948, 0.5052],\n",
       "        [0.4976, 0.5024],\n",
       "        [0.5006, 0.4994],\n",
       "        [0.5003, 0.4997],\n",
       "        [0.5051, 0.4949],\n",
       "        [0.4946, 0.5054],\n",
       "        [0.4829, 0.5171],\n",
       "        [0.5071, 0.4929],\n",
       "        [0.4945, 0.5055],\n",
       "        [0.5047, 0.4953],\n",
       "        [0.4983, 0.5017],\n",
       "        [0.5041, 0.4959],\n",
       "        [0.4934, 0.5066],\n",
       "        [0.5119, 0.4881],\n",
       "        [0.5002, 0.4998],\n",
       "        [0.5032, 0.4968],\n",
       "        [0.5049, 0.4951],\n",
       "        [0.5013, 0.4987],\n",
       "        [0.4988, 0.5012],\n",
       "        [0.4906, 0.5094],\n",
       "        [0.4991, 0.5009],\n",
       "        [0.5105, 0.4895],\n",
       "        [0.5030, 0.4970],\n",
       "        [0.4959, 0.5041],\n",
       "        [0.5073, 0.4927],\n",
       "        [0.5054, 0.4946],\n",
       "        [0.5029, 0.4971],\n",
       "        [0.4920, 0.5080],\n",
       "        [0.4873, 0.5127]], grad_fn=<SoftmaxBackward>)"
      ]
     },
     "execution_count": 120,
     "metadata": {},
     "output_type": "execute_result"
    }
   ],
   "source": [
    "tag_scores"
   ]
  },
  {
   "cell_type": "code",
   "execution_count": 146,
   "id": "db333a70",
   "metadata": {},
   "outputs": [],
   "source": [
    "predict_result = tag_scores[:, -1]"
   ]
  },
  {
   "cell_type": "code",
   "execution_count": 147,
   "id": "539c1d34",
   "metadata": {},
   "outputs": [
    {
     "data": {
      "text/plain": [
       "tensor([0.4978, 0.4932, 0.4957, 0.5052, 0.5024, 0.4994, 0.4997, 0.4949, 0.5054,\n",
       "        0.5171, 0.4929, 0.5055, 0.4953, 0.5017, 0.4959, 0.5066, 0.4881, 0.4998,\n",
       "        0.4968, 0.4951, 0.4987, 0.5012, 0.5094, 0.5009, 0.4895, 0.4970, 0.5041,\n",
       "        0.4927, 0.4946, 0.4971, 0.5080, 0.5127], grad_fn=<SelectBackward>)"
      ]
     },
     "execution_count": 147,
     "metadata": {},
     "output_type": "execute_result"
    }
   ],
   "source": [
    "predict_result"
   ]
  },
  {
   "cell_type": "code",
   "execution_count": 152,
   "id": "f0ebe127",
   "metadata": {},
   "outputs": [],
   "source": [
    "test_loss = loss_fn(predict_result, batch_sample[2])"
   ]
  },
  {
   "cell_type": "code",
   "execution_count": 153,
   "id": "a309b51d",
   "metadata": {},
   "outputs": [
    {
     "data": {
      "text/plain": [
       "tensor(0.7864, grad_fn=<BinaryCrossEntropyWithLogitsBackward>)"
      ]
     },
     "execution_count": 153,
     "metadata": {},
     "output_type": "execute_result"
    }
   ],
   "source": [
    "test_loss"
   ]
  },
  {
   "cell_type": "code",
   "execution_count": 157,
   "id": "32608dbc",
   "metadata": {},
   "outputs": [
    {
     "data": {
      "text/plain": [
       "array([0., 0., 1., 0., 1., 1., 0., 0., 1., 0., 1., 0., 0., 0., 0., 0., 0.,\n",
       "       0., 0., 1., 0., 0., 1., 0., 0., 1., 1., 1., 0., 1., 0., 1.],\n",
       "      dtype=float32)"
      ]
     },
     "execution_count": 157,
     "metadata": {},
     "output_type": "execute_result"
    }
   ],
   "source": [
    "batch_value = batch_sample[2].numpy()\n",
    "batch_value"
   ]
  },
  {
   "cell_type": "markdown",
   "id": "9df969e2",
   "metadata": {},
   "source": [
    "# LSTM"
   ]
  },
  {
   "cell_type": "code",
   "execution_count": 70,
   "id": "3ab58b42",
   "metadata": {},
   "outputs": [],
   "source": [
    "import torch.nn as nn\n",
    "import torch.optim as optim\n",
    "import torch.nn.functional as F"
   ]
  },
  {
   "cell_type": "code",
   "execution_count": 71,
   "id": "61bc93c0",
   "metadata": {},
   "outputs": [
    {
     "data": {
      "text/plain": [
       "47549"
      ]
     },
     "execution_count": 71,
     "metadata": {},
     "output_type": "execute_result"
    }
   ],
   "source": [
    "embedding_dim = vocab_size\n",
    "embedding_dim"
   ]
  },
  {
   "cell_type": "code",
   "execution_count": 72,
   "id": "7cad0830",
   "metadata": {},
   "outputs": [],
   "source": [
    "hidden_dim = 50"
   ]
  },
  {
   "cell_type": "code",
   "execution_count": 73,
   "id": "da54768a",
   "metadata": {},
   "outputs": [],
   "source": [
    "match_size = 30"
   ]
  },
  {
   "cell_type": "code",
   "execution_count": 74,
   "id": "9e905290",
   "metadata": {},
   "outputs": [],
   "source": [
    "hidden_dim2 = 10"
   ]
  },
  {
   "cell_type": "code",
   "execution_count": 114,
   "id": "6abe6a68",
   "metadata": {},
   "outputs": [],
   "source": [
    "class LSTMTagger(nn.Module):\n",
    "\n",
    "    def __init__(self, embedding_dim, hidden_dim, match_size, hidden_dim2):\n",
    "        super(LSTMTagger, self).__init__()\n",
    "        \n",
    "        self.embedding = nn.Embedding(embedding_dim, 100)\n",
    "        self.embedding.weight = nn.Parameter(torch.tensor(embedding_matrix, dtype=torch.float32)) \n",
    "\n",
    "        # The LSTM takes word embeddings as inputs, and outputs hidden states\n",
    "        # with dimensionality hidden_dim.\n",
    "        self.lstm1 = nn.LSTM(input_size = 100, hidden_size = hidden_dim, batch_first = True)\n",
    "        self.lstm2 = nn.LSTM(input_size = 100, hidden_size = hidden_dim, batch_first = True)\n",
    "        \n",
    "        # Matching layer\n",
    "        self.matchpara1 = nn.Parameter(torch.rand(match_size, hidden_dim))\n",
    "        self.matchpara2 = nn.Parameter(torch.rand(match_size, hidden_dim))\n",
    "        self.cosSim = nn.CosineSimilarity(dim=1)\n",
    "        \n",
    "        # Aggregation layer\n",
    "        self.lstm_new1 = nn.LSTM(input_size = match_size, hidden_size = hidden_dim2, batch_first=True)\n",
    "        self.lstm_new2 = nn.LSTM(input_size = match_size, hidden_size = hidden_dim2, batch_first=True)\n",
    "        \n",
    "        # Prediction layer\n",
    "        self.predlinear = nn.Linear(2*hidden_dim2, 2)\n",
    "        \n",
    "    def forward(self, input1, input2):\n",
    "        #print(input1.size())\n",
    "        embeds1 = self.embedding(input1)\n",
    "        #print(embeds1.size())\n",
    "        lstm_out1, _ = self.lstm1(embeds1)\n",
    "        embeds2 = self.embedding(input2)\n",
    "        lstm_out2, _ = self.lstm2(embeds2)\n",
    "        \n",
    "        # matching\n",
    "        match_1 = self.match_cal(lstm_out1, lstm_out2, self.matchpara1)\n",
    "        match_2 = self.match_cal(lstm_out2, lstm_out1, self.matchpara2)\n",
    "        \n",
    "        # aggregating\n",
    "        _,(lstm_new_out1,_) = self.lstm_new1(match_1)\n",
    "        _,(lstm_new_out2,_) = self.lstm_new2(match_2)\n",
    "        \n",
    "        # predicting\n",
    "        lstm_new_out1 = lstm_new_out1.view(lstm_new_out1.size(1), lstm_new_out1.size(2))\n",
    "        lstm_new_out2 = lstm_new_out2.view(lstm_new_out2.size(1), lstm_new_out2.size(2))\n",
    "        concat_out = torch.cat((lstm_new_out1, lstm_new_out2), dim = 1)\n",
    "        final_result = self.predlinear(concat_out)\n",
    "        tag_scores = F.softmax(final_result, dim=1)\n",
    "        \n",
    "        return tag_scores\n",
    "    \n",
    "    def match_cal(self, lstm_out1, lstm_out2, matchpara):\n",
    "        match_out_all = []\n",
    "        for b in range(lstm_out1.size(0)):\n",
    "            match_out_lst = []\n",
    "            lstm_out1_batch1 = lstm_out1[b,:,:]\n",
    "            #lstm_out2_batch1_end = lstm_out2[b, -1, :]\n",
    "            for seq in range(lstm_out1_batch1.size(0)):\n",
    "                batch1_t = lstm_out1_batch1[seq,:]\n",
    "                #batch2_t = lstm_out2_batch1_end\n",
    "                batch2_t = self.matching_method(batch1_t, lstm_out2[b,:,:])\n",
    "                mod_batch1_t = torch.mul(matchpara, batch1_t)\n",
    "                mod_batch2_t = torch.mul(matchpara, batch2_t)\n",
    "                match_out_t = self.cosSim(mod_batch1_t, mod_batch2_t)\n",
    "                match_out_lst.append(match_out_t)\n",
    "            match_out = torch.stack(match_out_lst)\n",
    "            match_out_all.append(match_out)\n",
    "        return torch.stack(match_out_all)\n",
    "    \n",
    "    def matching_method(self, batch1_t, lstm_out2_batch1):\n",
    "        prep_batch1_t = batch1_t.repeat(lstm_out2_batch1.size(0),1)\n",
    "        weight = self.cosSim(prep_batch1_t, lstm_out2_batch1).detach().numpy()\n",
    "        max_weight = np.argmax(weight)\n",
    "        return lstm_out2_batch1[max_weight,:]"
   ]
  },
  {
   "cell_type": "markdown",
   "id": "c0fe43a4",
   "metadata": {},
   "source": [
    "### Train"
   ]
  },
  {
   "cell_type": "code",
   "execution_count": null,
   "id": "a6222894",
   "metadata": {},
   "outputs": [],
   "source": []
  },
  {
   "cell_type": "code",
   "execution_count": 141,
   "id": "a737e6d1",
   "metadata": {},
   "outputs": [],
   "source": [
    "loss_input = torch.randn(3, requires_grad=True)\n",
    "loss_target = torch.empty(3).random_(2)\n",
    "loss_output = loss_fn(input, target)"
   ]
  },
  {
   "cell_type": "code",
   "execution_count": 142,
   "id": "5d1ad891",
   "metadata": {},
   "outputs": [
    {
     "data": {
      "text/plain": [
       "(tensor([ 1.7795, -2.2021, -0.2727], requires_grad=True), tensor([0., 0., 0.]))"
      ]
     },
     "execution_count": 142,
     "metadata": {},
     "output_type": "execute_result"
    }
   ],
   "source": [
    "(loss_input, loss_target)"
   ]
  },
  {
   "cell_type": "code",
   "execution_count": 143,
   "id": "bde7383d",
   "metadata": {},
   "outputs": [
    {
     "data": {
      "text/plain": [
       "tensor(1.3420, grad_fn=<BinaryCrossEntropyWithLogitsBackward>)"
      ]
     },
     "execution_count": 143,
     "metadata": {},
     "output_type": "execute_result"
    }
   ],
   "source": [
    "loss_output"
   ]
  },
  {
   "cell_type": "code",
   "execution_count": null,
   "id": "4aae27c8",
   "metadata": {},
   "outputs": [],
   "source": []
  },
  {
   "cell_type": "code",
   "execution_count": null,
   "id": "5dc640a6",
   "metadata": {},
   "outputs": [],
   "source": []
  },
  {
   "cell_type": "code",
   "execution_count": 76,
   "id": "4b90f427",
   "metadata": {},
   "outputs": [],
   "source": [
    "from sklearn.metrics import f1_score"
   ]
  },
  {
   "cell_type": "code",
   "execution_count": 115,
   "id": "0c8bf468",
   "metadata": {},
   "outputs": [],
   "source": [
    "LSTMmodel = LSTMTagger(embedding_dim, hidden_dim, match_size, hidden_dim2)"
   ]
  },
  {
   "cell_type": "code",
   "execution_count": 116,
   "id": "5d2e75fe",
   "metadata": {},
   "outputs": [],
   "source": [
    "loss_fn = nn.BCEWithLogitsLoss(reduction='sum')\n",
    "optimizer = optim.Adam(LSTMmodel.parameters(), lr=1e-3)"
   ]
  },
  {
   "cell_type": "code",
   "execution_count": 117,
   "id": "0e71bbb1",
   "metadata": {},
   "outputs": [],
   "source": [
    "n_epochs = 1"
   ]
  },
  {
   "cell_type": "code",
   "execution_count": 118,
   "id": "f7dc0a14",
   "metadata": {},
   "outputs": [
    {
     "name": "stdout",
     "output_type": "stream",
     "text": [
      "Batch 1 \t loss=0.010063\n",
      "Batch 21 \t loss=0.210014\n",
      "Batch 41 \t loss=0.396859\n",
      "Batch 61 \t loss=0.577218\n",
      "Batch 81 \t loss=0.755639\n",
      "Batch 101 \t loss=0.933963\n",
      "Batch 121 \t loss=1.112021\n",
      "Batch 141 \t loss=1.289865\n",
      "Batch 161 \t loss=1.467698\n",
      "Batch 181 \t loss=1.645412\n",
      "Batch 201 \t loss=1.823032\n",
      "Batch 221 \t loss=2.000650\n",
      "Batch 241 \t loss=2.178279\n",
      "Batch 261 \t loss=2.355894\n",
      "Batch 281 \t loss=2.533497\n",
      "Batch 301 \t loss=2.711055\n",
      "Batch 321 \t loss=2.888586\n",
      "Batch 341 \t loss=3.066128\n",
      "Batch 361 \t loss=3.243645\n",
      "Batch 381 \t loss=3.421173\n",
      "Batch 401 \t loss=3.598677\n",
      "Batch 421 \t loss=3.776189\n",
      "Batch 441 \t loss=3.953694\n",
      "Batch 461 \t loss=4.131199\n",
      "Batch 481 \t loss=4.308706\n",
      "Batch 501 \t loss=4.486209\n",
      "Batch 521 \t loss=4.663712\n",
      "Batch 541 \t loss=4.841208\n",
      "Batch 561 \t loss=5.018696\n",
      "Batch 581 \t loss=5.196179\n",
      "Batch 601 \t loss=5.373668\n",
      "Batch 621 \t loss=5.551143\n",
      "Batch 641 \t loss=5.728620\n",
      "Batch 661 \t loss=5.906102\n",
      "Batch 681 \t loss=6.083581\n",
      "Batch 701 \t loss=6.261057\n",
      "Batch 721 \t loss=6.438532\n",
      "Batch 741 \t loss=6.616010\n",
      "Batch 761 \t loss=6.793488\n",
      "Batch 781 \t loss=6.970958\n",
      "Batch 801 \t loss=7.148431\n",
      "Batch 821 \t loss=7.325902\n",
      "Batch 841 \t loss=7.503375\n",
      "Batch 861 \t loss=7.680836\n",
      "Batch 881 \t loss=7.858306\n",
      "Batch 901 \t loss=8.035767\n",
      "Batch 921 \t loss=8.213233\n",
      "Batch 941 \t loss=8.390694\n",
      "Batch 961 \t loss=8.568158\n",
      "Batch 981 \t loss=8.745622\n",
      "Batch 1001 \t loss=8.923084\n",
      "Batch 1021 \t loss=9.100546\n",
      "Batch 1041 \t loss=9.278011\n",
      "Batch 1061 \t loss=9.455472\n",
      "Batch 1081 \t loss=9.632936\n",
      "Batch 1101 \t loss=9.810394\n",
      "Batch 1121 \t loss=9.987851\n",
      "Batch 1141 \t loss=10.165312\n",
      "Batch 1161 \t loss=10.342771\n",
      "Batch 1181 \t loss=10.520231\n",
      "Batch 1201 \t loss=10.697691\n",
      "Batch 1221 \t loss=10.875152\n",
      "Batch 1241 \t loss=11.052609\n",
      "Batch 1261 \t loss=11.230066\n",
      "Batch 1281 \t loss=11.407525\n",
      "Batch 1301 \t loss=11.584984\n",
      "Batch 1321 \t loss=11.762443\n",
      "Batch 1341 \t loss=11.939902\n",
      "Batch 1361 \t loss=12.117359\n",
      "Batch 1381 \t loss=12.294815\n",
      "Batch 1401 \t loss=12.472272\n",
      "Batch 1421 \t loss=12.649733\n",
      "Batch 1441 \t loss=12.827188\n",
      "Batch 1461 \t loss=13.004643\n",
      "Batch 1481 \t loss=13.182097\n",
      "Batch 1501 \t loss=13.359550\n",
      "Batch 1521 \t loss=13.537001\n",
      "Batch 1541 \t loss=13.714454\n",
      "Batch 1561 \t loss=13.891907\n",
      "Batch 1581 \t loss=14.069360\n",
      "Batch 1601 \t loss=14.246815\n",
      "Batch 1621 \t loss=14.424268\n",
      "Batch 1641 \t loss=14.601720\n",
      "Batch 1661 \t loss=14.779173\n",
      "Batch 1681 \t loss=14.956628\n",
      "Batch 1701 \t loss=15.134081\n",
      "Batch 1721 \t loss=15.311534\n",
      "Batch 1741 \t loss=15.488986\n",
      "Batch 1761 \t loss=15.666440\n",
      "Batch 1781 \t loss=15.843894\n",
      "Batch 1801 \t loss=16.021344\n",
      "Batch 1821 \t loss=16.198798\n",
      "Batch 1841 \t loss=16.376250\n",
      "Batch 1861 \t loss=16.553701\n",
      "Batch 1881 \t loss=16.731157\n",
      "Batch 1901 \t loss=16.908610\n",
      "Batch 1921 \t loss=17.086062\n",
      "Batch 1941 \t loss=17.263511\n",
      "Batch 1961 \t loss=17.440962\n",
      "Batch 1981 \t loss=17.618413\n",
      "Batch 2001 \t loss=17.795863\n",
      "Batch 2021 \t loss=17.973315\n",
      "Batch 2041 \t loss=18.150767\n",
      "Batch 2061 \t loss=18.328217\n",
      "Batch 2081 \t loss=18.505669\n",
      "Batch 2101 \t loss=18.683120\n",
      "Batch 2121 \t loss=18.860569\n",
      "Batch 2141 \t loss=19.038019\n",
      "Batch 2161 \t loss=19.215468\n",
      "Batch 2181 \t loss=19.392917\n",
      "Batch 2201 \t loss=19.570368\n",
      "Batch 2221 \t loss=19.747818\n",
      "Batch 2241 \t loss=19.925268\n",
      "Batch 2261 \t loss=20.102717\n",
      "Batch 2281 \t loss=20.280166\n",
      "Batch 2301 \t loss=20.457616\n",
      "Batch 2321 \t loss=20.635066\n",
      "Batch 2341 \t loss=20.812515\n",
      "Batch 2361 \t loss=20.989966\n",
      "Batch 2381 \t loss=21.167416\n",
      "Batch 2401 \t loss=21.344865\n",
      "Batch 2421 \t loss=21.522316\n",
      "Batch 2441 \t loss=21.699765\n",
      "Batch 2461 \t loss=21.877215\n",
      "Batch 2481 \t loss=22.054667\n",
      "Batch 1 \t metric=0.000000\n",
      "Batch 21 \t metric=0.000000\n",
      "Batch 41 \t metric=0.000000\n",
      "Batch 61 \t metric=0.000000\n",
      "Batch 81 \t metric=0.000000\n",
      "Batch 101 \t metric=0.000000\n",
      "Batch 121 \t metric=0.000000\n",
      "Batch 141 \t metric=0.000000\n",
      "Batch 161 \t metric=0.000000\n",
      "Batch 181 \t metric=0.000000\n",
      "Batch 201 \t metric=0.000000\n",
      "Batch 221 \t metric=0.000000\n",
      "Batch 241 \t metric=0.000000\n",
      "Batch 261 \t metric=0.000000\n",
      "Batch 281 \t metric=0.000000\n",
      "Batch 301 \t metric=0.000000\n",
      "Batch 321 \t metric=0.000000\n",
      "Batch 341 \t metric=0.000000\n",
      "Batch 361 \t metric=0.000000\n",
      "Batch 381 \t metric=0.000000\n",
      "Batch 401 \t metric=0.000000\n",
      "Batch 421 \t metric=0.000000\n",
      "Batch 441 \t metric=0.000000\n",
      "Batch 461 \t metric=0.000000\n",
      "Batch 481 \t metric=0.000000\n",
      "Batch 501 \t metric=0.000000\n",
      "Batch 521 \t metric=0.000000\n",
      "Batch 541 \t metric=0.000000\n",
      "Batch 561 \t metric=0.000000\n",
      "Batch 581 \t metric=0.000000\n",
      "Batch 601 \t metric=0.000000\n",
      "Batch 621 \t metric=0.000000\n",
      "Epoch 1/1 \t loss=22.2158 \t metric=0.0000\n"
     ]
    }
   ],
   "source": [
    "for epoch in range(n_epochs):  \n",
    "    # Train\n",
    "    LSTMmodel.train()\n",
    "    avg_loss = 0. \n",
    "    batch_num = 1\n",
    "    for ques1, ques2, label in train_dataloader:\n",
    "        # Step 1. Remember that Pytorch accumulates gradients.\n",
    "        # We need to clear them out before each instance\n",
    "        LSTMmodel.zero_grad()\n",
    "        # Step 2. Run our forward pass.\n",
    "        tag_scores = LSTMmodel(ques1, ques2)\n",
    "        predict_scores = tag_scores[:,-1]\n",
    "\n",
    "        # Step 3. Compute the loss, gradients, and update the parameters by\n",
    "        #  calling optimizer.step()\n",
    "        \n",
    "        loss = loss_fn(predict_scores, label)\n",
    "        loss.backward()\n",
    "        optimizer.step()\n",
    "        \n",
    "        avg_loss += loss.item() / len(train_dataloader)\n",
    "        if batch_num % 20 == 1:\n",
    "            print('Batch {} \\t loss={:4f}'.format(batch_num, avg_loss))\n",
    "        batch_num += 1\n",
    "        \n",
    "    # Evaluation\n",
    "    LSTMmodel.eval()\n",
    "    \n",
    "    batch_num = 1\n",
    "    avg_metric = 0.\n",
    "    for ques1, ques2, label in validation_dataloader:\n",
    "        with torch.no_grad():\n",
    "            tag_scores = LSTMmodel(ques1, ques2)\n",
    "            \n",
    "        predict_label = np.argmax(tag_scores.detach().numpy(), axis=1).flatten()\n",
    "        avg_metric += f1_score(predict_label, label.numpy()) / len(validation_dataloader)\n",
    "        if batch_num % 20 == 1:\n",
    "            print('Batch {} \\t metric={:4f}'.format(batch_num, avg_metric))\n",
    "        batch_num += 1\n",
    "        \n",
    "    # Output\n",
    "    print('Epoch {}/{} \\t loss={:.4f} \\t metric={:.4f}'.format(\n",
    "                epoch + 1, n_epochs, avg_loss, avg_metric))\n",
    "        "
   ]
  },
  {
   "cell_type": "code",
   "execution_count": null,
   "id": "69e80c18",
   "metadata": {},
   "outputs": [],
   "source": []
  }
 ],
 "metadata": {
  "kernelspec": {
   "display_name": "Python 3 (ipykernel)",
   "language": "python",
   "name": "python3"
  },
  "language_info": {
   "codemirror_mode": {
    "name": "ipython",
    "version": 3
   },
   "file_extension": ".py",
   "mimetype": "text/x-python",
   "name": "python",
   "nbconvert_exporter": "python",
   "pygments_lexer": "ipython3",
   "version": "3.8.5"
  }
 },
 "nbformat": 4,
 "nbformat_minor": 5
}
